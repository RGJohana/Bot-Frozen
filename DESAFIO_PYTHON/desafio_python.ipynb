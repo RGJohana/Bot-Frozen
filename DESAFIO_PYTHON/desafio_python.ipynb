{
  "nbformat": 4,
  "nbformat_minor": 0,
  "metadata": {
    "colab": {
      "provenance": []
    },
    "kernelspec": {
      "name": "python3",
      "display_name": "Python 3"
    },
    "language_info": {
      "name": "python"
    }
  },
  "cells": [
    {
      "cell_type": "markdown",
      "source": [
        "# NLP - Bot basado en reglas con Tensorflow\n",
        " BOT basado en una red neuronal con Tensorflow"
      ],
      "metadata": {
        "id": "WYr8GTTN6Gsk"
      }
    },
    {
      "cell_type": "code",
      "execution_count": 25,
      "metadata": {
        "id": "wQZySiYS517Y"
      },
      "outputs": [],
      "source": [
        "import json\n",
        "import string\n",
        "import random\n",
        "import numpy as np\n",
        "\n",
        "import os\n",
        "\n",
        "os.environ['TF_ENABLE_ONEDNN_OPTS'] = '0'\n",
        "\n",
        "import tensorflow as tf\n",
        "\n",
        "import tensorflow as tf\n",
        "from keras import Sequential\n",
        "from keras.layers import Dense, Dropout\n",
        "\n",
        "import pickle"
      ]
    },
    {
      "cell_type": "code",
      "source": [
        "data = {\n",
        "  \"intents\": [\n",
        "    {\"tag\": \"nombre\",\n",
        "        \"patterns\": [\"¿Cúal es tu nombre?\", \"¿Quién sos?\"],\n",
        "        \"responses\": [\"Mi nombre es FrozenBOT\", \"Yo soy FrozenBOT\"]\n",
        "        },\n",
        "    {\"tag\": \"contacto\",\n",
        "        \"patterns\": [\"contacto\", \"número de contacto\", \"número de teléfono\", \"número de whatsapp\", \"whatsapp\"],\n",
        "        \"responses\": [\"Podes contactarnos al siguiente número +54-9-11-111-1111\", \"Contactonos al whatsapp número +54-9-11-2222-2222\"]\n",
        "        },\n",
        "    {\"tag\": \"envios\",\n",
        "        \"patterns\": [\"¿Realizan envios?\", \"¿Cómo me llega el paquete?\", \"¿Tienen delivery?\", \"Tienen delivery\", \"¿Cuentan con servicio de delivery?\"],\n",
        "        \"responses\": [\"Los envios se realizan por medio de delivery, lo enviaremos a la dirección que registres en la página\"]\n",
        "        },\n",
        "    {\"tag\": \"precios\",\n",
        "        \"patterns\": [\"precio\", \"Me podrás pasar los precios\", \"¿Cuánto vale?\", \"¿Cuánto sale?\", \"¿Cuánto cuesta el grande?\", \"¿Cuánto cuesta el mediano?\", \"¿Cuánto cuesta el pequeño\"],\n",
        "        \"responses\": [\"En el catálogo podrás encontrar los precios de todos nuestros productos en stock\"]\n",
        "        },\n",
        "    {\"tag\": \"pagos\",\n",
        "        \"patterns\": [\"medios de pago\", \"tarjeta de crédito\", \"tarjetas\", \"efectivo\"],\n",
        "        \"responses\": [\"Contactanos al whatsapp número +54-9-11-2154-4777 para conocer los beneficios y formas de pago vigentes\"]\n",
        "        },\n",
        "    {\"tag\": \"stock\",\n",
        "        \"patterns\": [\"Esto está disponible\", \"¿Tenes stock?\", \"¿Hay stock?\"],\n",
        "        \"responses\": [\"Los productos publicados están en stock\"]\n",
        "        },\n",
        "    {\n",
        "      \"tag\": \"bienvenida\",\n",
        "      \"patterns\": [\"Hola\", \"¿Cómo estás?\", \"¿Qué tal?\"],\n",
        "      \"responses\": [\"¡Hola! Bienvenido a Heladerías Frozen.\", \"¡Hola, espero estes muy bien. Bienvenido a Heladerías Frozen!\"]\n",
        "    },\n",
        "    {\n",
        "      \"tag\": \"pedido\",\n",
        "      \"patterns\": [\"Quiero helado\",\"Quiero hacer un pedido\", \"¿Cómo puedo ordenar?\", \"Necesito helado\"],\n",
        "      \"responses\": [\"Claro, ¿qué sabor de helado te gustaría ordenar?\", \"Estamos aquí para ayudarte con tu pedido. ¿Cuáles son tus preferencias?\"]\n",
        "    },\n",
        "    {\n",
        "      \"tag\": \"pedido_sabor_especifico\",\n",
        "      \"patterns\": [\"Quiero Chocolate\", \"Quiero Granizado\", \"Quiero Limón\",\"Quiero Dulce de Leche\",\"Me gustaría Chocolate\",\"Me gustaría Granizado\", \"Me gustaría Limón\", \"Me gustaría Dulce de Leche\", \"Chocolate\", \"Granizado\", \"Limon\", \"Dulce de Leche\"],\n",
        "      \"responses\": [\"¡Perfecto! ¿Quieres un tamaño en particular para tu helado?\", \"¡Excelente elección! ¿Qué tamaño prefieres para tu helado?\"]\n",
        "    },\n",
        "    {\n",
        "    \"tag\": \"preferencias\",\n",
        "    \"patterns\": [\"Me gusta\", \"Me encanta el sabor a [sabor].\", \"Prefiero tamaños [tamaño].\", \"Siempre agrego [cobertura].\", \"Necesito opciones sin [restriccion].\"],\n",
        "    \"responses\": [\"¡Entendido! Personalizaremos tu pedido según tus preferencias. Ofrecemos tamaños pequeño, mediano y grande para nuestros helados. ¿Qué tamaño prefieres?\"]\n",
        "    },\n",
        "\n",
        "    {\n",
        "      \"tag\": \"sabores\",\n",
        "      \"patterns\": [\"¿Cuáles son los sabores disponibles?\", \"Sabor de helado\", \"Sabores\"],\n",
        "      \"responses\": [\"Tenemos una variedad de sabores, como Chocolate, Granizado, Limon y Dulce de Leche. ¿Tienes algún sabor en mente?\"]\n",
        "    },\n",
        "    {\n",
        "      \"tag\": \"tamanio\",\n",
        "      \"patterns\": [\"Tamaño del helado\", \"¿Qué tamaños tienen?\", \"Pequeño, mediano, grande\"],\n",
        "      \"responses\": [\"Ofrecemos tamaños pequeño, mediano y grande para nuestros helados. ¿Qué tamaño prefieres?\"]\n",
        "    },\n",
        "    {\n",
        "      \"tag\": \"confirmacion\",\n",
        "      \"patterns\": [\"Confirmar pedido\", \"Sí\", \"No\"],\n",
        "      \"responses\": [\"Perfecto. ¿Quieres agregar algo más a tu pedido?\", \"Entendido. ¿Deseas incluir algo más en tu pedido?\"]\n",
        "    },\n",
        "    {\n",
        "      \"tag\": \"agradecimientos\",\n",
        "      \"patterns\": [\"Muchas gracias\", \"Gracias\", \"Agradecido\"],\n",
        "      \"responses\": [\"¡De nada! Estamos felices de ayudarte. ¿Hay algo más en lo que podamos colaborar?\", \"¡Gracias a ti por elegir Heladerías Frozen! ¿Necesitas algo más?\"]\n",
        "    },\n",
        "    {\n",
        "      \"tag\": \"despedida\",\n",
        "      \"patterns\": [\"Chau\", \"Hasta luego\", \"Adiós\"],\n",
        "      \"responses\": [\"Hasta luego. ¡Que tengas un gran día!\", \"Adiós. ¡Esperamos verte de nuevo pronto en Heladerías Frozen!\"]\n",
        "    },\n",
        "    {\n",
        "      \"tag\": \"sabor_no_disponible\",\n",
        "      \"patterns\": [\"sabor\",\"Quiero \", \"Me gustaría \", \"No lo veo en la lista\", \"¿Tienen ?\", \"No hay ese sabor\", \"Sabor no disponible\", \"No lo tienen\", \"No lo tienen en el menú, ¿verdad?\", \"¿No disponen de [sabor] actualmente?\", \"¿Por qué no encuentro [sabor] en la lista?\", \"Me gustaría [sabor], pero no lo veo. ¿Lo tienen?\", \"¿Hay alguna razón por la que [sabor] no esté disponible?\"],\n",
        "      \"responses\": [\"Lo siento, el sabor que mencionaste no está disponible en este momento. ¿Quieres probar con otro sabor?\"]\n",
        "    },\n",
        "    {\n",
        "      \"tag\": \"consulta_sabor\",\n",
        "      \"patterns\": [\"sabores disponibles\",\"sabores\",\"sabor\", \"¿Tienen sabor?\",\"Me gustaría sabor\", \"¿Qué sabores tienen?\",\"Dime los sabores disponibles\",\"¿Cuáles son los sabores que ofrecen?\",\"Cuéntame más acerca de los sabores\"],\n",
        "      \"responses\": [\"Tenemos una variedad de sabores, como Chocolate, Granizado, Limon y Dulce de Leche . ¿Tienes algún sabor en mente?\"]\n",
        "    },\n",
        "\n",
        "    {\n",
        "      \"tag\": \"eleccion_tamano\",\n",
        "      \"patterns\": [\"Pequeño\",\"Mediano\",\"Grande\",\"Tamaño [tamano]\",\"Quiero un helado grande de [sabor]\",\"Quiero un helado pequeño de [sabor]\",\"Quiero un helado mediano de [sabor]\",\"¿Qué tamaños tienen para [sabor]?\",\"Dame un helado [tamano] de [sabor]\"],\n",
        "      \"responses\": [\"Perfecto. Buena elección.\"]\n",
        "    },\n",
        "    {\n",
        "    \"tag\": \"eleccion_sabor\",\n",
        "    \"patterns\": [\"Quiero [sabor]\", \"Me gustaría [sabor]\", \"[sabor]\", \"Tienes [sabor]?\"],\n",
        "    \"responses\": [\"Perfecto, ¿algún tamaño en particular para tu helado?\", \"¡Excelente elección! ¿Qué tamaño prefieres?\"]\n",
        "    }\n",
        "\n",
        "  ]\n",
        "}\n"
      ],
      "metadata": {
        "id": "I-tF8pPH838m"
      },
      "execution_count": 26,
      "outputs": []
    },
    {
      "cell_type": "markdown",
      "source": [
        "### Herramientas de preprocesamiento de datos\n",
        "- Quitar números\n",
        "- Quitar símbolos de puntuación\n",
        "- Quitar caracteres acentuados"
      ],
      "metadata": {
        "id": "MP79Guxw-Oa2"
      }
    },
    {
      "cell_type": "code",
      "source": [
        "import re\n",
        "import string\n",
        "\n",
        "\n",
        "def preprocess_clean_text(text):\n",
        "    # Pasar a minúsculas\n",
        "    text = text.lower()\n",
        "\n",
        "    # Quitar números\n",
        "    pattern = r'[0-9\\n]'\n",
        "\n",
        "    text = re.sub(pattern, '', text)\n",
        "\n",
        "    # Quitar caracteres de puntuación\n",
        "    text = ''.join([c for c in text if c not in (string.punctuation+\"¡\"+\"¿\")])\n",
        "\n",
        "    # Quitar caracteres con acento\n",
        "    text = re.sub(r'[àáâä]', \"a\", text)\n",
        "    text = re.sub(r'[éèêë]', \"e\", text)\n",
        "    text = re.sub(r'[íìîï]', \"i\", text)\n",
        "    text = re.sub(r'[òóôö]', \"o\", text)\n",
        "    text = re.sub(r'[úùûü]', \"u\", text)\n",
        "\n",
        "    return text"
      ],
      "metadata": {
        "id": "8aOqEnNi-KBE"
      },
      "execution_count": 28,
      "outputs": []
    },
    {
      "cell_type": "markdown",
      "source": [
        "# Lematizacion"
      ],
      "metadata": {
        "id": "XjyeLkPg--Q9"
      }
    },
    {
      "cell_type": "code",
      "source": [
        "import os\n",
        "import gdown\n",
        "if os.access('lematizacion-es.pickle', os.F_OK) is False:\n",
        "    !curl -L -o 'lematizacion-es.zip' 'https://drive.google.com/u/0/uc?id=16leuM9PuFXAkmw34XeQy-84h8WGAYxJw&export=download&confirm=t'\n",
        "    !unzip -q lematizacion-es.zip\n",
        "else:\n",
        "    print(\"El archivo ya se encuentra descargado\")"
      ],
      "metadata": {
        "colab": {
          "base_uri": "https://localhost:8080/"
        },
        "id": "GjkQAHoq-_rF",
        "outputId": "f0c91e9d-2a2c-4e47-dd1c-96c69b2ee94b"
      },
      "execution_count": 29,
      "outputs": [
        {
          "output_type": "stream",
          "name": "stdout",
          "text": [
            "El archivo ya se encuentra descargado\n"
          ]
        }
      ]
    },
    {
      "cell_type": "code",
      "source": [
        "with open(\"lematizacion-es.pickle\",'rb') as fi:\n",
        "    lemma_lookupTable = pickle.load(fi)"
      ],
      "metadata": {
        "id": "uKi-q_Ph_JJc"
      },
      "execution_count": 30,
      "outputs": []
    },
    {
      "cell_type": "markdown",
      "source": [
        "# Preprocesamiento del dataset"
      ],
      "metadata": {
        "id": "ZXY9ydrn_gNl"
      }
    },
    {
      "cell_type": "code",
      "source": [
        "words = []\n",
        "classes = []\n",
        "doc_X = []\n",
        "doc_y = []\n",
        "# Tokenizar cada \"pattern\" y agregar cada palabra al vocabulario (vocabulary)\n",
        "# Los tokens que se toman de cada pattern se agrega a doc_X\n",
        "# Cada tag se agrega a doc_y\n",
        "for intent in data[\"intents\"]: # Bienvenida\n",
        "    for pattern in intent[\"patterns\"]: #  [\"Hola\", \"¿Cómo estás?\", \"¿Qué tal?\"]\n",
        "\n",
        "        # trasformar el patron a tokens\n",
        "        tokens = preprocess_clean_text(pattern).split(\" \") # Hola -> [hola]\n",
        "\n",
        "        # lematizar los tokens\n",
        "        lemma_words = []\n",
        "        for token in tokens:\n",
        "            lemma = lemma_lookupTable.get(token)\n",
        "            if lemma is not None:\n",
        "                lemma_words.append(lemma)\n",
        "            else:\n",
        "                print(\"UNK:\", token) # Lo que no se puede lemmatizar\n",
        "\n",
        "        if not lemma_words:\n",
        "            continue\n",
        "\n",
        "        words += lemma_words\n",
        "        doc_X.append(pattern)\n",
        "        doc_y.append(intent[\"tag\"])\n",
        "\n",
        "    # Agregar el tag a las clases\n",
        "    if intent[\"tag\"] not in classes:\n",
        "        classes.append(intent[\"tag\"])\n",
        "\n",
        "# Elminar duplicados con \"set\" y ordenar el vocubulario y las clases por orden alfabético\n",
        "vocab = sorted(set(words))\n",
        "classes = sorted(set(classes))\n",
        "len(vocab)\n"
      ],
      "metadata": {
        "colab": {
          "base_uri": "https://localhost:8080/"
        },
        "id": "g_g9lP2a_gwM",
        "outputId": "1e86ab5c-ca62-48ef-d44e-b42438f54cab"
      },
      "execution_count": 31,
      "outputs": [
        {
          "output_type": "stream",
          "name": "stdout",
          "text": [
            "UNK: sos\n",
            "UNK: me\n",
            "UNK: delivery\n",
            "UNK: delivery\n",
            "UNK: con\n",
            "UNK: delivery\n",
            "UNK: me\n",
            "UNK: que\n",
            "UNK: me\n",
            "UNK: me\n",
            "UNK: me\n",
            "UNK: me\n",
            "UNK: me\n",
            "UNK: me\n",
            "UNK: siempre\n",
            "UNK: sin\n",
            "UNK: del\n",
            "UNK: que\n",
            "UNK: hasta\n",
            "UNK: luego\n",
            "UNK: \n",
            "UNK: me\n",
            "UNK: \n",
            "UNK: en\n",
            "UNK: \n",
            "UNK: en\n",
            "UNK: actualmente\n",
            "UNK: por\n",
            "UNK: que\n",
            "UNK: en\n",
            "UNK: me\n",
            "UNK: por\n",
            "UNK: que\n",
            "UNK: me\n",
            "UNK: que\n",
            "UNK: dime\n",
            "UNK: que\n",
            "UNK: cuentame\n",
            "UNK: que\n",
            "UNK: dame\n",
            "UNK: me\n"
          ]
        },
        {
          "output_type": "execute_result",
          "data": {
            "text/plain": [
              "86"
            ]
          },
          "metadata": {},
          "execution_count": 31
        }
      ]
    },
    {
      "cell_type": "code",
      "source": [
        "print(\"vocab:\", vocab)\n",
        "print(\"classes:\", classes)\n",
        "print(\"doc_X:\", doc_X)\n",
        "print(\"doc_y:\", doc_y)"
      ],
      "metadata": {
        "colab": {
          "base_uri": "https://localhost:8080/"
        },
        "id": "eq6nHCTmAL5E",
        "outputId": "8ce62a63-2f56-4d06-b01a-b3d1a145a375"
      },
      "execution_count": 32,
      "outputs": [
        {
          "output_type": "stream",
          "name": "stdout",
          "text": [
            "vocab: ['a', 'acercar', 'adios', 'agradecer', 'agregar', 'alguno', 'chocolate', 'cobertura', 'comer', 'confirmar', 'contacto', 'contar', 'credito', 'cual', 'cuanto', 'cuesta', 'dar', 'disponer', 'disponible', 'dulce', 'efectivo', 'el', 'encantar', 'encuentro', 'envio', 'ese', 'este', 'gracia', 'grande', 'granizar', 'gustar', 'haber', 'hacer', 'helar', 'hola', 'leche', 'limon', 'listo', 'llegar', 'lo', 'los', 'mas', 'mediano', 'medio', 'menu', 'mucho', 'necesitar', 'nombre', 'numero', 'ofrecer', 'opcion', 'ordenar', 'pago', 'paquete', 'parir', 'pasar', 'pedir', 'pequeno', 'pero', 'poder', 'precio', 'preferir', 'pudrir', 'querer', 'quien', 'razon', 'realizar', 'restriccion', 'sabor', 'salir', 'ser', 'servicio', 'si', 'son', 'stock', 'tal', 'tamano', 'tarjeta', 'telefono', 'tener', 'tu', 'uno', 'valer', 'ver', 'verdad', 'whatsapp']\n",
            "classes: ['agradecimientos', 'bienvenida', 'confirmacion', 'consulta_sabor', 'contacto', 'despedida', 'eleccion_sabor', 'eleccion_tamano', 'envios', 'nombre', 'pagos', 'pedido', 'pedido_sabor_especifico', 'precios', 'preferencias', 'sabor_no_disponible', 'sabores', 'stock', 'tamanio']\n",
            "doc_X: ['¿Cúal es tu nombre?', '¿Quién sos?', 'contacto', 'número de contacto', 'número de teléfono', 'número de whatsapp', 'whatsapp', '¿Realizan envios?', '¿Cómo me llega el paquete?', '¿Tienen delivery?', 'Tienen delivery', '¿Cuentan con servicio de delivery?', 'precio', 'Me podrás pasar los precios', '¿Cuánto vale?', '¿Cuánto sale?', '¿Cuánto cuesta el grande?', '¿Cuánto cuesta el mediano?', '¿Cuánto cuesta el pequeño', 'medios de pago', 'tarjeta de crédito', 'tarjetas', 'efectivo', 'Esto está disponible', '¿Tenes stock?', '¿Hay stock?', 'Hola', '¿Cómo estás?', '¿Qué tal?', 'Quiero helado', 'Quiero hacer un pedido', '¿Cómo puedo ordenar?', 'Necesito helado', 'Quiero Chocolate', 'Quiero Granizado', 'Quiero Limón', 'Quiero Dulce de Leche', 'Me gustaría Chocolate', 'Me gustaría Granizado', 'Me gustaría Limón', 'Me gustaría Dulce de Leche', 'Chocolate', 'Granizado', 'Limon', 'Dulce de Leche', 'Me gusta', 'Me encanta el sabor a [sabor].', 'Prefiero tamaños [tamaño].', 'Siempre agrego [cobertura].', 'Necesito opciones sin [restriccion].', '¿Cuáles son los sabores disponibles?', 'Sabor de helado', 'Sabores', 'Tamaño del helado', '¿Qué tamaños tienen?', 'Pequeño, mediano, grande', 'Confirmar pedido', 'Sí', 'No', 'Muchas gracias', 'Gracias', 'Agradecido', 'Chau', 'Adiós', 'sabor', 'Quiero ', 'Me gustaría ', 'No lo veo en la lista', '¿Tienen ?', 'No hay ese sabor', 'Sabor no disponible', 'No lo tienen', 'No lo tienen en el menú, ¿verdad?', '¿No disponen de [sabor] actualmente?', '¿Por qué no encuentro [sabor] en la lista?', 'Me gustaría [sabor], pero no lo veo. ¿Lo tienen?', '¿Hay alguna razón por la que [sabor] no esté disponible?', 'sabores disponibles', 'sabores', 'sabor', '¿Tienen sabor?', 'Me gustaría sabor', '¿Qué sabores tienen?', 'Dime los sabores disponibles', '¿Cuáles son los sabores que ofrecen?', 'Cuéntame más acerca de los sabores', 'Pequeño', 'Mediano', 'Grande', 'Tamaño [tamano]', 'Quiero un helado grande de [sabor]', 'Quiero un helado pequeño de [sabor]', 'Quiero un helado mediano de [sabor]', '¿Qué tamaños tienen para [sabor]?', 'Dame un helado [tamano] de [sabor]', 'Quiero [sabor]', 'Me gustaría [sabor]', '[sabor]', 'Tienes [sabor]?']\n",
            "doc_y: ['nombre', 'nombre', 'contacto', 'contacto', 'contacto', 'contacto', 'contacto', 'envios', 'envios', 'envios', 'envios', 'envios', 'precios', 'precios', 'precios', 'precios', 'precios', 'precios', 'precios', 'pagos', 'pagos', 'pagos', 'pagos', 'stock', 'stock', 'stock', 'bienvenida', 'bienvenida', 'bienvenida', 'pedido', 'pedido', 'pedido', 'pedido', 'pedido_sabor_especifico', 'pedido_sabor_especifico', 'pedido_sabor_especifico', 'pedido_sabor_especifico', 'pedido_sabor_especifico', 'pedido_sabor_especifico', 'pedido_sabor_especifico', 'pedido_sabor_especifico', 'pedido_sabor_especifico', 'pedido_sabor_especifico', 'pedido_sabor_especifico', 'pedido_sabor_especifico', 'preferencias', 'preferencias', 'preferencias', 'preferencias', 'preferencias', 'sabores', 'sabores', 'sabores', 'tamanio', 'tamanio', 'tamanio', 'confirmacion', 'confirmacion', 'confirmacion', 'agradecimientos', 'agradecimientos', 'agradecimientos', 'despedida', 'despedida', 'sabor_no_disponible', 'sabor_no_disponible', 'sabor_no_disponible', 'sabor_no_disponible', 'sabor_no_disponible', 'sabor_no_disponible', 'sabor_no_disponible', 'sabor_no_disponible', 'sabor_no_disponible', 'sabor_no_disponible', 'sabor_no_disponible', 'sabor_no_disponible', 'sabor_no_disponible', 'consulta_sabor', 'consulta_sabor', 'consulta_sabor', 'consulta_sabor', 'consulta_sabor', 'consulta_sabor', 'consulta_sabor', 'consulta_sabor', 'consulta_sabor', 'eleccion_tamano', 'eleccion_tamano', 'eleccion_tamano', 'eleccion_tamano', 'eleccion_tamano', 'eleccion_tamano', 'eleccion_tamano', 'eleccion_tamano', 'eleccion_tamano', 'eleccion_sabor', 'eleccion_sabor', 'eleccion_sabor', 'eleccion_sabor']\n"
          ]
        }
      ]
    },
    {
      "cell_type": "code",
      "source": [
        "# Transformar doc_y a una lista de clases por index  (a números)\n",
        "doc_y_encoded = [classes.index(label) for label in doc_y]\n"
      ],
      "metadata": {
        "id": "U1VclBIwAPOU"
      },
      "execution_count": 33,
      "outputs": []
    },
    {
      "cell_type": "markdown",
      "source": [
        "# Entrenar modelo"
      ],
      "metadata": {
        "id": "4haC_jndAXZU"
      }
    },
    {
      "cell_type": "code",
      "source": [
        "X_train = []\n",
        "for doc in doc_X:\n",
        "    # Transformar la pregunta (input) en tokens y lematizar\n",
        "    lemma_words = []\n",
        "    tokens = preprocess_clean_text(doc).split(\" \")\n",
        "    for token in tokens:\n",
        "        lemma = lemma_lookupTable.get(token)\n",
        "        if lemma is not None:\n",
        "            lemma_words.append(lemma)\n",
        "\n",
        "    # Transformar los tokens en \"Bag of words\" (arrays de 1 y 0)\n",
        "    bow = []\n",
        "    for word in vocab:\n",
        "        bow.append(1) if word in lemma_words else bow.append(0)\n",
        "\n",
        "    print(\"X:\", bow)\n",
        "    X_train.append(bow)\n",
        "\n",
        "X_train = np.array(X_train)"
      ],
      "metadata": {
        "colab": {
          "base_uri": "https://localhost:8080/"
        },
        "id": "xWnjgYtuAdq8",
        "outputId": "4f80098e-c4b7-4618-d57b-554614574259"
      },
      "execution_count": 34,
      "outputs": [
        {
          "output_type": "stream",
          "name": "stdout",
          "text": [
            "X: [0, 0, 0, 0, 0, 0, 0, 0, 0, 0, 0, 0, 0, 1, 0, 0, 0, 0, 0, 0, 0, 0, 0, 0, 0, 0, 0, 0, 0, 0, 0, 0, 0, 0, 0, 0, 0, 0, 0, 0, 0, 0, 0, 0, 0, 0, 0, 1, 0, 0, 0, 0, 0, 0, 0, 0, 0, 0, 0, 0, 0, 0, 0, 0, 0, 0, 0, 0, 0, 0, 1, 0, 0, 0, 0, 0, 0, 0, 0, 0, 1, 0, 0, 0, 0, 0]\n",
            "X: [0, 0, 0, 0, 0, 0, 0, 0, 0, 0, 0, 0, 0, 0, 0, 0, 0, 0, 0, 0, 0, 0, 0, 0, 0, 0, 0, 0, 0, 0, 0, 0, 0, 0, 0, 0, 0, 0, 0, 0, 0, 0, 0, 0, 0, 0, 0, 0, 0, 0, 0, 0, 0, 0, 0, 0, 0, 0, 0, 0, 0, 0, 0, 0, 1, 0, 0, 0, 0, 0, 0, 0, 0, 0, 0, 0, 0, 0, 0, 0, 0, 0, 0, 0, 0, 0]\n",
            "X: [0, 0, 0, 0, 0, 0, 0, 0, 0, 0, 1, 0, 0, 0, 0, 0, 0, 0, 0, 0, 0, 0, 0, 0, 0, 0, 0, 0, 0, 0, 0, 0, 0, 0, 0, 0, 0, 0, 0, 0, 0, 0, 0, 0, 0, 0, 0, 0, 0, 0, 0, 0, 0, 0, 0, 0, 0, 0, 0, 0, 0, 0, 0, 0, 0, 0, 0, 0, 0, 0, 0, 0, 0, 0, 0, 0, 0, 0, 0, 0, 0, 0, 0, 0, 0, 0]\n",
            "X: [0, 0, 0, 0, 0, 0, 0, 0, 0, 0, 1, 0, 0, 0, 0, 0, 1, 0, 0, 0, 0, 0, 0, 0, 0, 0, 0, 0, 0, 0, 0, 0, 0, 0, 0, 0, 0, 0, 0, 0, 0, 0, 0, 0, 0, 0, 0, 0, 1, 0, 0, 0, 0, 0, 0, 0, 0, 0, 0, 0, 0, 0, 0, 0, 0, 0, 0, 0, 0, 0, 0, 0, 0, 0, 0, 0, 0, 0, 0, 0, 0, 0, 0, 0, 0, 0]\n",
            "X: [0, 0, 0, 0, 0, 0, 0, 0, 0, 0, 0, 0, 0, 0, 0, 0, 1, 0, 0, 0, 0, 0, 0, 0, 0, 0, 0, 0, 0, 0, 0, 0, 0, 0, 0, 0, 0, 0, 0, 0, 0, 0, 0, 0, 0, 0, 0, 0, 1, 0, 0, 0, 0, 0, 0, 0, 0, 0, 0, 0, 0, 0, 0, 0, 0, 0, 0, 0, 0, 0, 0, 0, 0, 0, 0, 0, 0, 0, 1, 0, 0, 0, 0, 0, 0, 0]\n",
            "X: [0, 0, 0, 0, 0, 0, 0, 0, 0, 0, 0, 0, 0, 0, 0, 0, 1, 0, 0, 0, 0, 0, 0, 0, 0, 0, 0, 0, 0, 0, 0, 0, 0, 0, 0, 0, 0, 0, 0, 0, 0, 0, 0, 0, 0, 0, 0, 0, 1, 0, 0, 0, 0, 0, 0, 0, 0, 0, 0, 0, 0, 0, 0, 0, 0, 0, 0, 0, 0, 0, 0, 0, 0, 0, 0, 0, 0, 0, 0, 0, 0, 0, 0, 0, 0, 1]\n",
            "X: [0, 0, 0, 0, 0, 0, 0, 0, 0, 0, 0, 0, 0, 0, 0, 0, 0, 0, 0, 0, 0, 0, 0, 0, 0, 0, 0, 0, 0, 0, 0, 0, 0, 0, 0, 0, 0, 0, 0, 0, 0, 0, 0, 0, 0, 0, 0, 0, 0, 0, 0, 0, 0, 0, 0, 0, 0, 0, 0, 0, 0, 0, 0, 0, 0, 0, 0, 0, 0, 0, 0, 0, 0, 0, 0, 0, 0, 0, 0, 0, 0, 0, 0, 0, 0, 1]\n",
            "X: [0, 0, 0, 0, 0, 0, 0, 0, 0, 0, 0, 0, 0, 0, 0, 0, 0, 0, 0, 0, 0, 0, 0, 0, 1, 0, 0, 0, 0, 0, 0, 0, 0, 0, 0, 0, 0, 0, 0, 0, 0, 0, 0, 0, 0, 0, 0, 0, 0, 0, 0, 0, 0, 0, 0, 0, 0, 0, 0, 0, 0, 0, 0, 0, 0, 0, 1, 0, 0, 0, 0, 0, 0, 0, 0, 0, 0, 0, 0, 0, 0, 0, 0, 0, 0, 0]\n",
            "X: [0, 0, 0, 0, 0, 0, 0, 0, 1, 0, 0, 0, 0, 0, 0, 0, 0, 0, 0, 0, 0, 1, 0, 0, 0, 0, 0, 0, 0, 0, 0, 0, 0, 0, 0, 0, 0, 0, 1, 0, 0, 0, 0, 0, 0, 0, 0, 0, 0, 0, 0, 0, 0, 1, 0, 0, 0, 0, 0, 0, 0, 0, 0, 0, 0, 0, 0, 0, 0, 0, 0, 0, 0, 0, 0, 0, 0, 0, 0, 0, 0, 0, 0, 0, 0, 0]\n",
            "X: [0, 0, 0, 0, 0, 0, 0, 0, 0, 0, 0, 0, 0, 0, 0, 0, 0, 0, 0, 0, 0, 0, 0, 0, 0, 0, 0, 0, 0, 0, 0, 0, 0, 0, 0, 0, 0, 0, 0, 0, 0, 0, 0, 0, 0, 0, 0, 0, 0, 0, 0, 0, 0, 0, 0, 0, 0, 0, 0, 0, 0, 0, 0, 0, 0, 0, 0, 0, 0, 0, 0, 0, 0, 0, 0, 0, 0, 0, 0, 1, 0, 0, 0, 0, 0, 0]\n",
            "X: [0, 0, 0, 0, 0, 0, 0, 0, 0, 0, 0, 0, 0, 0, 0, 0, 0, 0, 0, 0, 0, 0, 0, 0, 0, 0, 0, 0, 0, 0, 0, 0, 0, 0, 0, 0, 0, 0, 0, 0, 0, 0, 0, 0, 0, 0, 0, 0, 0, 0, 0, 0, 0, 0, 0, 0, 0, 0, 0, 0, 0, 0, 0, 0, 0, 0, 0, 0, 0, 0, 0, 0, 0, 0, 0, 0, 0, 0, 0, 1, 0, 0, 0, 0, 0, 0]\n",
            "X: [0, 0, 0, 0, 0, 0, 0, 0, 0, 0, 0, 1, 0, 0, 0, 0, 1, 0, 0, 0, 0, 0, 0, 0, 0, 0, 0, 0, 0, 0, 0, 0, 0, 0, 0, 0, 0, 0, 0, 0, 0, 0, 0, 0, 0, 0, 0, 0, 0, 0, 0, 0, 0, 0, 0, 0, 0, 0, 0, 0, 0, 0, 0, 0, 0, 0, 0, 0, 0, 0, 0, 1, 0, 0, 0, 0, 0, 0, 0, 0, 0, 0, 0, 0, 0, 0]\n",
            "X: [0, 0, 0, 0, 0, 0, 0, 0, 0, 0, 0, 0, 0, 0, 0, 0, 0, 0, 0, 0, 0, 0, 0, 0, 0, 0, 0, 0, 0, 0, 0, 0, 0, 0, 0, 0, 0, 0, 0, 0, 0, 0, 0, 0, 0, 0, 0, 0, 0, 0, 0, 0, 0, 0, 0, 0, 0, 0, 0, 0, 1, 0, 0, 0, 0, 0, 0, 0, 0, 0, 0, 0, 0, 0, 0, 0, 0, 0, 0, 0, 0, 0, 0, 0, 0, 0]\n",
            "X: [0, 0, 0, 0, 0, 0, 0, 0, 0, 0, 0, 0, 0, 0, 0, 0, 0, 0, 0, 0, 0, 0, 0, 0, 0, 0, 0, 0, 0, 0, 0, 0, 0, 0, 0, 0, 0, 0, 0, 0, 1, 0, 0, 0, 0, 0, 0, 0, 0, 0, 0, 0, 0, 0, 0, 1, 0, 0, 0, 0, 1, 0, 1, 0, 0, 0, 0, 0, 0, 0, 0, 0, 0, 0, 0, 0, 0, 0, 0, 0, 0, 0, 0, 0, 0, 0]\n",
            "X: [0, 0, 0, 0, 0, 0, 0, 0, 0, 0, 0, 0, 0, 0, 1, 0, 0, 0, 0, 0, 0, 0, 0, 0, 0, 0, 0, 0, 0, 0, 0, 0, 0, 0, 0, 0, 0, 0, 0, 0, 0, 0, 0, 0, 0, 0, 0, 0, 0, 0, 0, 0, 0, 0, 0, 0, 0, 0, 0, 0, 0, 0, 0, 0, 0, 0, 0, 0, 0, 0, 0, 0, 0, 0, 0, 0, 0, 0, 0, 0, 0, 0, 1, 0, 0, 0]\n",
            "X: [0, 0, 0, 0, 0, 0, 0, 0, 0, 0, 0, 0, 0, 0, 1, 0, 0, 0, 0, 0, 0, 0, 0, 0, 0, 0, 0, 0, 0, 0, 0, 0, 0, 0, 0, 0, 0, 0, 0, 0, 0, 0, 0, 0, 0, 0, 0, 0, 0, 0, 0, 0, 0, 0, 0, 0, 0, 0, 0, 0, 0, 0, 0, 0, 0, 0, 0, 0, 0, 1, 0, 0, 0, 0, 0, 0, 0, 0, 0, 0, 0, 0, 0, 0, 0, 0]\n",
            "X: [0, 0, 0, 0, 0, 0, 0, 0, 0, 0, 0, 0, 0, 0, 1, 1, 0, 0, 0, 0, 0, 1, 0, 0, 0, 0, 0, 0, 1, 0, 0, 0, 0, 0, 0, 0, 0, 0, 0, 0, 0, 0, 0, 0, 0, 0, 0, 0, 0, 0, 0, 0, 0, 0, 0, 0, 0, 0, 0, 0, 0, 0, 0, 0, 0, 0, 0, 0, 0, 0, 0, 0, 0, 0, 0, 0, 0, 0, 0, 0, 0, 0, 0, 0, 0, 0]\n",
            "X: [0, 0, 0, 0, 0, 0, 0, 0, 0, 0, 0, 0, 0, 0, 1, 1, 0, 0, 0, 0, 0, 1, 0, 0, 0, 0, 0, 0, 0, 0, 0, 0, 0, 0, 0, 0, 0, 0, 0, 0, 0, 0, 1, 0, 0, 0, 0, 0, 0, 0, 0, 0, 0, 0, 0, 0, 0, 0, 0, 0, 0, 0, 0, 0, 0, 0, 0, 0, 0, 0, 0, 0, 0, 0, 0, 0, 0, 0, 0, 0, 0, 0, 0, 0, 0, 0]\n",
            "X: [0, 0, 0, 0, 0, 0, 0, 0, 0, 0, 0, 0, 0, 0, 1, 1, 0, 0, 0, 0, 0, 1, 0, 0, 0, 0, 0, 0, 0, 0, 0, 0, 0, 0, 0, 0, 0, 0, 0, 0, 0, 0, 0, 0, 0, 0, 0, 0, 0, 0, 0, 0, 0, 0, 0, 0, 0, 1, 0, 0, 0, 0, 0, 0, 0, 0, 0, 0, 0, 0, 0, 0, 0, 0, 0, 0, 0, 0, 0, 0, 0, 0, 0, 0, 0, 0]\n",
            "X: [0, 0, 0, 0, 0, 0, 0, 0, 0, 0, 0, 0, 0, 0, 0, 0, 1, 0, 0, 0, 0, 0, 0, 0, 0, 0, 0, 0, 0, 0, 0, 0, 0, 0, 0, 0, 0, 0, 0, 0, 0, 0, 0, 1, 0, 0, 0, 0, 0, 0, 0, 0, 1, 0, 0, 0, 0, 0, 0, 0, 0, 0, 0, 0, 0, 0, 0, 0, 0, 0, 0, 0, 0, 0, 0, 0, 0, 0, 0, 0, 0, 0, 0, 0, 0, 0]\n",
            "X: [0, 0, 0, 0, 0, 0, 0, 0, 0, 0, 0, 0, 1, 0, 0, 0, 1, 0, 0, 0, 0, 0, 0, 0, 0, 0, 0, 0, 0, 0, 0, 0, 0, 0, 0, 0, 0, 0, 0, 0, 0, 0, 0, 0, 0, 0, 0, 0, 0, 0, 0, 0, 0, 0, 0, 0, 0, 0, 0, 0, 0, 0, 0, 0, 0, 0, 0, 0, 0, 0, 0, 0, 0, 0, 0, 0, 0, 1, 0, 0, 0, 0, 0, 0, 0, 0]\n",
            "X: [0, 0, 0, 0, 0, 0, 0, 0, 0, 0, 0, 0, 0, 0, 0, 0, 0, 0, 0, 0, 0, 0, 0, 0, 0, 0, 0, 0, 0, 0, 0, 0, 0, 0, 0, 0, 0, 0, 0, 0, 0, 0, 0, 0, 0, 0, 0, 0, 0, 0, 0, 0, 0, 0, 0, 0, 0, 0, 0, 0, 0, 0, 0, 0, 0, 0, 0, 0, 0, 0, 0, 0, 0, 0, 0, 0, 0, 1, 0, 0, 0, 0, 0, 0, 0, 0]\n",
            "X: [0, 0, 0, 0, 0, 0, 0, 0, 0, 0, 0, 0, 0, 0, 0, 0, 0, 0, 0, 0, 1, 0, 0, 0, 0, 0, 0, 0, 0, 0, 0, 0, 0, 0, 0, 0, 0, 0, 0, 0, 0, 0, 0, 0, 0, 0, 0, 0, 0, 0, 0, 0, 0, 0, 0, 0, 0, 0, 0, 0, 0, 0, 0, 0, 0, 0, 0, 0, 0, 0, 0, 0, 0, 0, 0, 0, 0, 0, 0, 0, 0, 0, 0, 0, 0, 0]\n",
            "X: [0, 0, 0, 0, 0, 0, 0, 0, 0, 0, 0, 0, 0, 0, 0, 0, 0, 0, 1, 0, 0, 0, 0, 0, 0, 0, 1, 0, 0, 0, 0, 0, 0, 0, 0, 0, 0, 0, 0, 0, 0, 0, 0, 0, 0, 0, 0, 0, 0, 0, 0, 0, 0, 0, 0, 0, 0, 0, 0, 0, 0, 0, 0, 0, 0, 0, 0, 0, 0, 0, 0, 0, 0, 0, 0, 0, 0, 0, 0, 0, 0, 0, 0, 0, 0, 0]\n",
            "X: [0, 0, 0, 0, 0, 0, 0, 0, 0, 0, 0, 0, 0, 0, 0, 0, 0, 0, 0, 0, 0, 0, 0, 0, 0, 0, 0, 0, 0, 0, 0, 0, 0, 0, 0, 0, 0, 0, 0, 0, 0, 0, 0, 0, 0, 0, 0, 0, 0, 0, 0, 0, 0, 0, 0, 0, 0, 0, 0, 0, 0, 0, 0, 0, 0, 0, 0, 0, 0, 0, 0, 0, 0, 0, 1, 0, 0, 0, 0, 1, 0, 0, 0, 0, 0, 0]\n",
            "X: [0, 0, 0, 0, 0, 0, 0, 0, 0, 0, 0, 0, 0, 0, 0, 0, 0, 0, 0, 0, 0, 0, 0, 0, 0, 0, 0, 0, 0, 0, 0, 1, 0, 0, 0, 0, 0, 0, 0, 0, 0, 0, 0, 0, 0, 0, 0, 0, 0, 0, 0, 0, 0, 0, 0, 0, 0, 0, 0, 0, 0, 0, 0, 0, 0, 0, 0, 0, 0, 0, 0, 0, 0, 0, 1, 0, 0, 0, 0, 0, 0, 0, 0, 0, 0, 0]\n",
            "X: [0, 0, 0, 0, 0, 0, 0, 0, 0, 0, 0, 0, 0, 0, 0, 0, 0, 0, 0, 0, 0, 0, 0, 0, 0, 0, 0, 0, 0, 0, 0, 0, 0, 0, 1, 0, 0, 0, 0, 0, 0, 0, 0, 0, 0, 0, 0, 0, 0, 0, 0, 0, 0, 0, 0, 0, 0, 0, 0, 0, 0, 0, 0, 0, 0, 0, 0, 0, 0, 0, 0, 0, 0, 0, 0, 0, 0, 0, 0, 0, 0, 0, 0, 0, 0, 0]\n",
            "X: [0, 0, 0, 0, 0, 0, 0, 0, 1, 0, 0, 0, 0, 0, 0, 0, 0, 0, 0, 0, 0, 0, 0, 0, 0, 0, 1, 0, 0, 0, 0, 0, 0, 0, 0, 0, 0, 0, 0, 0, 0, 0, 0, 0, 0, 0, 0, 0, 0, 0, 0, 0, 0, 0, 0, 0, 0, 0, 0, 0, 0, 0, 0, 0, 0, 0, 0, 0, 0, 0, 0, 0, 0, 0, 0, 0, 0, 0, 0, 0, 0, 0, 0, 0, 0, 0]\n",
            "X: [0, 0, 0, 0, 0, 0, 0, 0, 0, 0, 0, 0, 0, 0, 0, 0, 0, 0, 0, 0, 0, 0, 0, 0, 0, 0, 0, 0, 0, 0, 0, 0, 0, 0, 0, 0, 0, 0, 0, 0, 0, 0, 0, 0, 0, 0, 0, 0, 0, 0, 0, 0, 0, 0, 0, 0, 0, 0, 0, 0, 0, 0, 0, 0, 0, 0, 0, 0, 0, 0, 0, 0, 0, 0, 0, 1, 0, 0, 0, 0, 0, 0, 0, 0, 0, 0]\n",
            "X: [0, 0, 0, 0, 0, 0, 0, 0, 0, 0, 0, 0, 0, 0, 0, 0, 0, 0, 0, 0, 0, 0, 0, 0, 0, 0, 0, 0, 0, 0, 0, 0, 0, 1, 0, 0, 0, 0, 0, 0, 0, 0, 0, 0, 0, 0, 0, 0, 0, 0, 0, 0, 0, 0, 0, 0, 0, 0, 0, 0, 0, 0, 0, 1, 0, 0, 0, 0, 0, 0, 0, 0, 0, 0, 0, 0, 0, 0, 0, 0, 0, 0, 0, 0, 0, 0]\n",
            "X: [0, 0, 0, 0, 0, 0, 0, 0, 0, 0, 0, 0, 0, 0, 0, 0, 0, 0, 0, 0, 0, 0, 0, 0, 0, 0, 0, 0, 0, 0, 0, 0, 1, 0, 0, 0, 0, 0, 0, 0, 0, 0, 0, 0, 0, 0, 0, 0, 0, 0, 0, 0, 0, 0, 0, 0, 1, 0, 0, 0, 0, 0, 0, 1, 0, 0, 0, 0, 0, 0, 0, 0, 0, 0, 0, 0, 0, 0, 0, 0, 0, 1, 0, 0, 0, 0]\n",
            "X: [0, 0, 0, 0, 0, 0, 0, 0, 1, 0, 0, 0, 0, 0, 0, 0, 0, 0, 0, 0, 0, 0, 0, 0, 0, 0, 0, 0, 0, 0, 0, 0, 0, 0, 0, 0, 0, 0, 0, 0, 0, 0, 0, 0, 0, 0, 0, 0, 0, 0, 0, 1, 0, 0, 0, 0, 0, 0, 0, 1, 0, 0, 0, 0, 0, 0, 0, 0, 0, 0, 0, 0, 0, 0, 0, 0, 0, 0, 0, 0, 0, 0, 0, 0, 0, 0]\n",
            "X: [0, 0, 0, 0, 0, 0, 0, 0, 0, 0, 0, 0, 0, 0, 0, 0, 0, 0, 0, 0, 0, 0, 0, 0, 0, 0, 0, 0, 0, 0, 0, 0, 0, 1, 0, 0, 0, 0, 0, 0, 0, 0, 0, 0, 0, 0, 1, 0, 0, 0, 0, 0, 0, 0, 0, 0, 0, 0, 0, 0, 0, 0, 0, 0, 0, 0, 0, 0, 0, 0, 0, 0, 0, 0, 0, 0, 0, 0, 0, 0, 0, 0, 0, 0, 0, 0]\n",
            "X: [0, 0, 0, 0, 0, 0, 1, 0, 0, 0, 0, 0, 0, 0, 0, 0, 0, 0, 0, 0, 0, 0, 0, 0, 0, 0, 0, 0, 0, 0, 0, 0, 0, 0, 0, 0, 0, 0, 0, 0, 0, 0, 0, 0, 0, 0, 0, 0, 0, 0, 0, 0, 0, 0, 0, 0, 0, 0, 0, 0, 0, 0, 0, 1, 0, 0, 0, 0, 0, 0, 0, 0, 0, 0, 0, 0, 0, 0, 0, 0, 0, 0, 0, 0, 0, 0]\n",
            "X: [0, 0, 0, 0, 0, 0, 0, 0, 0, 0, 0, 0, 0, 0, 0, 0, 0, 0, 0, 0, 0, 0, 0, 0, 0, 0, 0, 0, 0, 1, 0, 0, 0, 0, 0, 0, 0, 0, 0, 0, 0, 0, 0, 0, 0, 0, 0, 0, 0, 0, 0, 0, 0, 0, 0, 0, 0, 0, 0, 0, 0, 0, 0, 1, 0, 0, 0, 0, 0, 0, 0, 0, 0, 0, 0, 0, 0, 0, 0, 0, 0, 0, 0, 0, 0, 0]\n",
            "X: [0, 0, 0, 0, 0, 0, 0, 0, 0, 0, 0, 0, 0, 0, 0, 0, 0, 0, 0, 0, 0, 0, 0, 0, 0, 0, 0, 0, 0, 0, 0, 0, 0, 0, 0, 0, 1, 0, 0, 0, 0, 0, 0, 0, 0, 0, 0, 0, 0, 0, 0, 0, 0, 0, 0, 0, 0, 0, 0, 0, 0, 0, 0, 1, 0, 0, 0, 0, 0, 0, 0, 0, 0, 0, 0, 0, 0, 0, 0, 0, 0, 0, 0, 0, 0, 0]\n",
            "X: [0, 0, 0, 0, 0, 0, 0, 0, 0, 0, 0, 0, 0, 0, 0, 0, 1, 0, 0, 1, 0, 0, 0, 0, 0, 0, 0, 0, 0, 0, 0, 0, 0, 0, 0, 1, 0, 0, 0, 0, 0, 0, 0, 0, 0, 0, 0, 0, 0, 0, 0, 0, 0, 0, 0, 0, 0, 0, 0, 0, 0, 0, 0, 1, 0, 0, 0, 0, 0, 0, 0, 0, 0, 0, 0, 0, 0, 0, 0, 0, 0, 0, 0, 0, 0, 0]\n",
            "X: [0, 0, 0, 0, 0, 0, 1, 0, 0, 0, 0, 0, 0, 0, 0, 0, 0, 0, 0, 0, 0, 0, 0, 0, 0, 0, 0, 0, 0, 0, 1, 0, 0, 0, 0, 0, 0, 0, 0, 0, 0, 0, 0, 0, 0, 0, 0, 0, 0, 0, 0, 0, 0, 0, 0, 0, 0, 0, 0, 0, 0, 0, 0, 0, 0, 0, 0, 0, 0, 0, 0, 0, 0, 0, 0, 0, 0, 0, 0, 0, 0, 0, 0, 0, 0, 0]\n",
            "X: [0, 0, 0, 0, 0, 0, 0, 0, 0, 0, 0, 0, 0, 0, 0, 0, 0, 0, 0, 0, 0, 0, 0, 0, 0, 0, 0, 0, 0, 1, 1, 0, 0, 0, 0, 0, 0, 0, 0, 0, 0, 0, 0, 0, 0, 0, 0, 0, 0, 0, 0, 0, 0, 0, 0, 0, 0, 0, 0, 0, 0, 0, 0, 0, 0, 0, 0, 0, 0, 0, 0, 0, 0, 0, 0, 0, 0, 0, 0, 0, 0, 0, 0, 0, 0, 0]\n",
            "X: [0, 0, 0, 0, 0, 0, 0, 0, 0, 0, 0, 0, 0, 0, 0, 0, 0, 0, 0, 0, 0, 0, 0, 0, 0, 0, 0, 0, 0, 0, 1, 0, 0, 0, 0, 0, 1, 0, 0, 0, 0, 0, 0, 0, 0, 0, 0, 0, 0, 0, 0, 0, 0, 0, 0, 0, 0, 0, 0, 0, 0, 0, 0, 0, 0, 0, 0, 0, 0, 0, 0, 0, 0, 0, 0, 0, 0, 0, 0, 0, 0, 0, 0, 0, 0, 0]\n",
            "X: [0, 0, 0, 0, 0, 0, 0, 0, 0, 0, 0, 0, 0, 0, 0, 0, 1, 0, 0, 1, 0, 0, 0, 0, 0, 0, 0, 0, 0, 0, 1, 0, 0, 0, 0, 1, 0, 0, 0, 0, 0, 0, 0, 0, 0, 0, 0, 0, 0, 0, 0, 0, 0, 0, 0, 0, 0, 0, 0, 0, 0, 0, 0, 0, 0, 0, 0, 0, 0, 0, 0, 0, 0, 0, 0, 0, 0, 0, 0, 0, 0, 0, 0, 0, 0, 0]\n",
            "X: [0, 0, 0, 0, 0, 0, 1, 0, 0, 0, 0, 0, 0, 0, 0, 0, 0, 0, 0, 0, 0, 0, 0, 0, 0, 0, 0, 0, 0, 0, 0, 0, 0, 0, 0, 0, 0, 0, 0, 0, 0, 0, 0, 0, 0, 0, 0, 0, 0, 0, 0, 0, 0, 0, 0, 0, 0, 0, 0, 0, 0, 0, 0, 0, 0, 0, 0, 0, 0, 0, 0, 0, 0, 0, 0, 0, 0, 0, 0, 0, 0, 0, 0, 0, 0, 0]\n",
            "X: [0, 0, 0, 0, 0, 0, 0, 0, 0, 0, 0, 0, 0, 0, 0, 0, 0, 0, 0, 0, 0, 0, 0, 0, 0, 0, 0, 0, 0, 1, 0, 0, 0, 0, 0, 0, 0, 0, 0, 0, 0, 0, 0, 0, 0, 0, 0, 0, 0, 0, 0, 0, 0, 0, 0, 0, 0, 0, 0, 0, 0, 0, 0, 0, 0, 0, 0, 0, 0, 0, 0, 0, 0, 0, 0, 0, 0, 0, 0, 0, 0, 0, 0, 0, 0, 0]\n",
            "X: [0, 0, 0, 0, 0, 0, 0, 0, 0, 0, 0, 0, 0, 0, 0, 0, 0, 0, 0, 0, 0, 0, 0, 0, 0, 0, 0, 0, 0, 0, 0, 0, 0, 0, 0, 0, 1, 0, 0, 0, 0, 0, 0, 0, 0, 0, 0, 0, 0, 0, 0, 0, 0, 0, 0, 0, 0, 0, 0, 0, 0, 0, 0, 0, 0, 0, 0, 0, 0, 0, 0, 0, 0, 0, 0, 0, 0, 0, 0, 0, 0, 0, 0, 0, 0, 0]\n",
            "X: [0, 0, 0, 0, 0, 0, 0, 0, 0, 0, 0, 0, 0, 0, 0, 0, 1, 0, 0, 1, 0, 0, 0, 0, 0, 0, 0, 0, 0, 0, 0, 0, 0, 0, 0, 1, 0, 0, 0, 0, 0, 0, 0, 0, 0, 0, 0, 0, 0, 0, 0, 0, 0, 0, 0, 0, 0, 0, 0, 0, 0, 0, 0, 0, 0, 0, 0, 0, 0, 0, 0, 0, 0, 0, 0, 0, 0, 0, 0, 0, 0, 0, 0, 0, 0, 0]\n",
            "X: [0, 0, 0, 0, 0, 0, 0, 0, 0, 0, 0, 0, 0, 0, 0, 0, 0, 0, 0, 0, 0, 0, 0, 0, 0, 0, 0, 0, 0, 0, 1, 0, 0, 0, 0, 0, 0, 0, 0, 0, 0, 0, 0, 0, 0, 0, 0, 0, 0, 0, 0, 0, 0, 0, 0, 0, 0, 0, 0, 0, 0, 0, 0, 0, 0, 0, 0, 0, 0, 0, 0, 0, 0, 0, 0, 0, 0, 0, 0, 0, 0, 0, 0, 0, 0, 0]\n",
            "X: [1, 0, 0, 0, 0, 0, 0, 0, 0, 0, 0, 0, 0, 0, 0, 0, 0, 0, 0, 0, 0, 1, 1, 0, 0, 0, 0, 0, 0, 0, 0, 0, 0, 0, 0, 0, 0, 0, 0, 0, 0, 0, 0, 0, 0, 0, 0, 0, 0, 0, 0, 0, 0, 0, 0, 0, 0, 0, 0, 0, 0, 0, 0, 0, 0, 0, 0, 0, 1, 0, 0, 0, 0, 0, 0, 0, 0, 0, 0, 0, 0, 0, 0, 0, 0, 0]\n",
            "X: [0, 0, 0, 0, 0, 0, 0, 0, 0, 0, 0, 0, 0, 0, 0, 0, 0, 0, 0, 0, 0, 0, 0, 0, 0, 0, 0, 0, 0, 0, 0, 0, 0, 0, 0, 0, 0, 0, 0, 0, 0, 0, 0, 0, 0, 0, 0, 0, 0, 0, 0, 0, 0, 0, 0, 0, 0, 0, 0, 0, 0, 1, 0, 0, 0, 0, 0, 0, 0, 0, 0, 0, 0, 0, 0, 0, 1, 0, 0, 0, 0, 0, 0, 0, 0, 0]\n",
            "X: [0, 0, 0, 0, 1, 0, 0, 1, 0, 0, 0, 0, 0, 0, 0, 0, 0, 0, 0, 0, 0, 0, 0, 0, 0, 0, 0, 0, 0, 0, 0, 0, 0, 0, 0, 0, 0, 0, 0, 0, 0, 0, 0, 0, 0, 0, 0, 0, 0, 0, 0, 0, 0, 0, 0, 0, 0, 0, 0, 0, 0, 0, 0, 0, 0, 0, 0, 0, 0, 0, 0, 0, 0, 0, 0, 0, 0, 0, 0, 0, 0, 0, 0, 0, 0, 0]\n",
            "X: [0, 0, 0, 0, 0, 0, 0, 0, 0, 0, 0, 0, 0, 0, 0, 0, 0, 0, 0, 0, 0, 0, 0, 0, 0, 0, 0, 0, 0, 0, 0, 0, 0, 0, 0, 0, 0, 0, 0, 0, 0, 0, 0, 0, 0, 0, 1, 0, 0, 0, 1, 0, 0, 0, 0, 0, 0, 0, 0, 0, 0, 0, 0, 0, 0, 0, 0, 1, 0, 0, 0, 0, 0, 0, 0, 0, 0, 0, 0, 0, 0, 0, 0, 0, 0, 0]\n",
            "X: [0, 0, 0, 0, 0, 0, 0, 0, 0, 0, 0, 0, 0, 1, 0, 0, 0, 0, 1, 0, 0, 0, 0, 0, 0, 0, 0, 0, 0, 0, 0, 0, 0, 0, 0, 0, 0, 0, 0, 0, 1, 0, 0, 0, 0, 0, 0, 0, 0, 0, 0, 0, 0, 0, 0, 0, 0, 0, 0, 0, 0, 0, 0, 0, 0, 0, 0, 0, 1, 0, 0, 0, 0, 1, 0, 0, 0, 0, 0, 0, 0, 0, 0, 0, 0, 0]\n",
            "X: [0, 0, 0, 0, 0, 0, 0, 0, 0, 0, 0, 0, 0, 0, 0, 0, 1, 0, 0, 0, 0, 0, 0, 0, 0, 0, 0, 0, 0, 0, 0, 0, 0, 1, 0, 0, 0, 0, 0, 0, 0, 0, 0, 0, 0, 0, 0, 0, 0, 0, 0, 0, 0, 0, 0, 0, 0, 0, 0, 0, 0, 0, 0, 0, 0, 0, 0, 0, 1, 0, 0, 0, 0, 0, 0, 0, 0, 0, 0, 0, 0, 0, 0, 0, 0, 0]\n",
            "X: [0, 0, 0, 0, 0, 0, 0, 0, 0, 0, 0, 0, 0, 0, 0, 0, 0, 0, 0, 0, 0, 0, 0, 0, 0, 0, 0, 0, 0, 0, 0, 0, 0, 0, 0, 0, 0, 0, 0, 0, 0, 0, 0, 0, 0, 0, 0, 0, 0, 0, 0, 0, 0, 0, 0, 0, 0, 0, 0, 0, 0, 0, 0, 0, 0, 0, 0, 0, 1, 0, 0, 0, 0, 0, 0, 0, 0, 0, 0, 0, 0, 0, 0, 0, 0, 0]\n",
            "X: [0, 0, 0, 0, 0, 0, 0, 0, 0, 0, 0, 0, 0, 0, 0, 0, 0, 0, 0, 0, 0, 0, 0, 0, 0, 0, 0, 0, 0, 0, 0, 0, 0, 1, 0, 0, 0, 0, 0, 0, 0, 0, 0, 0, 0, 0, 0, 0, 0, 0, 0, 0, 0, 0, 0, 0, 0, 0, 0, 0, 0, 0, 0, 0, 0, 0, 0, 0, 0, 0, 0, 0, 0, 0, 0, 0, 1, 0, 0, 0, 0, 0, 0, 0, 0, 0]\n",
            "X: [0, 0, 0, 0, 0, 0, 0, 0, 0, 0, 0, 0, 0, 0, 0, 0, 0, 0, 0, 0, 0, 0, 0, 0, 0, 0, 0, 0, 0, 0, 0, 0, 0, 0, 0, 0, 0, 0, 0, 0, 0, 0, 0, 0, 0, 0, 0, 0, 0, 0, 0, 0, 0, 0, 0, 0, 0, 0, 0, 0, 0, 0, 0, 0, 0, 0, 0, 0, 0, 0, 0, 0, 0, 0, 0, 0, 1, 0, 0, 1, 0, 0, 0, 0, 0, 0]\n",
            "X: [0, 0, 0, 0, 0, 0, 0, 0, 0, 0, 0, 0, 0, 0, 0, 0, 0, 0, 0, 0, 0, 0, 0, 0, 0, 0, 0, 0, 1, 0, 0, 0, 0, 0, 0, 0, 0, 0, 0, 0, 0, 0, 1, 0, 0, 0, 0, 0, 0, 0, 0, 0, 0, 0, 0, 0, 0, 1, 0, 0, 0, 0, 0, 0, 0, 0, 0, 0, 0, 0, 0, 0, 0, 0, 0, 0, 0, 0, 0, 0, 0, 0, 0, 0, 0, 0]\n",
            "X: [0, 0, 0, 0, 0, 0, 0, 0, 0, 1, 0, 0, 0, 0, 0, 0, 0, 0, 0, 0, 0, 0, 0, 0, 0, 0, 0, 0, 0, 0, 0, 0, 0, 0, 0, 0, 0, 0, 0, 0, 0, 0, 0, 0, 0, 0, 0, 0, 0, 0, 0, 0, 0, 0, 0, 0, 1, 0, 0, 0, 0, 0, 0, 0, 0, 0, 0, 0, 0, 0, 0, 0, 0, 0, 0, 0, 0, 0, 0, 0, 0, 0, 0, 0, 0, 0]\n",
            "X: [0, 0, 0, 0, 0, 0, 0, 0, 0, 0, 0, 0, 0, 0, 0, 0, 0, 0, 0, 0, 0, 0, 0, 0, 0, 0, 0, 0, 0, 0, 0, 0, 0, 0, 0, 0, 0, 0, 0, 0, 0, 0, 0, 0, 0, 0, 0, 0, 0, 0, 0, 0, 0, 0, 0, 0, 0, 0, 0, 0, 0, 0, 0, 0, 0, 0, 0, 0, 0, 0, 0, 0, 1, 0, 0, 0, 0, 0, 0, 0, 0, 0, 0, 0, 0, 0]\n",
            "X: [0, 0, 0, 0, 0, 0, 0, 0, 0, 0, 0, 0, 0, 0, 0, 0, 0, 0, 0, 0, 0, 0, 0, 0, 0, 0, 0, 0, 0, 0, 0, 0, 0, 0, 0, 0, 0, 0, 0, 0, 0, 0, 0, 0, 0, 0, 0, 0, 1, 0, 0, 0, 0, 0, 0, 0, 0, 0, 0, 0, 0, 0, 0, 0, 0, 0, 0, 0, 0, 0, 0, 0, 0, 0, 0, 0, 0, 0, 0, 0, 0, 0, 0, 0, 0, 0]\n",
            "X: [0, 0, 0, 0, 0, 0, 0, 0, 0, 0, 0, 0, 0, 0, 0, 0, 0, 0, 0, 0, 0, 0, 0, 0, 0, 0, 0, 1, 0, 0, 0, 0, 0, 0, 0, 0, 0, 0, 0, 0, 0, 0, 0, 0, 0, 1, 0, 0, 0, 0, 0, 0, 0, 0, 0, 0, 0, 0, 0, 0, 0, 0, 0, 0, 0, 0, 0, 0, 0, 0, 0, 0, 0, 0, 0, 0, 0, 0, 0, 0, 0, 0, 0, 0, 0, 0]\n",
            "X: [0, 0, 0, 0, 0, 0, 0, 0, 0, 0, 0, 0, 0, 0, 0, 0, 0, 0, 0, 0, 0, 0, 0, 0, 0, 0, 0, 1, 0, 0, 0, 0, 0, 0, 0, 0, 0, 0, 0, 0, 0, 0, 0, 0, 0, 0, 0, 0, 0, 0, 0, 0, 0, 0, 0, 0, 0, 0, 0, 0, 0, 0, 0, 0, 0, 0, 0, 0, 0, 0, 0, 0, 0, 0, 0, 0, 0, 0, 0, 0, 0, 0, 0, 0, 0, 0]\n",
            "X: [0, 0, 0, 1, 0, 0, 0, 0, 0, 0, 0, 0, 0, 0, 0, 0, 0, 0, 0, 0, 0, 0, 0, 0, 0, 0, 0, 0, 0, 0, 0, 0, 0, 0, 0, 0, 0, 0, 0, 0, 0, 0, 0, 0, 0, 0, 0, 0, 0, 0, 0, 0, 0, 0, 0, 0, 0, 0, 0, 0, 0, 0, 0, 0, 0, 0, 0, 0, 0, 0, 0, 0, 0, 0, 0, 0, 0, 0, 0, 0, 0, 0, 0, 0, 0, 0]\n",
            "X: [0, 0, 1, 0, 0, 0, 0, 0, 0, 0, 0, 0, 0, 0, 0, 0, 0, 0, 0, 0, 0, 0, 0, 0, 0, 0, 0, 0, 0, 0, 0, 0, 0, 0, 0, 0, 0, 0, 0, 0, 0, 0, 0, 0, 0, 0, 0, 0, 0, 0, 0, 0, 0, 0, 0, 0, 0, 0, 0, 0, 0, 0, 0, 0, 0, 0, 0, 0, 0, 0, 0, 0, 0, 0, 0, 0, 0, 0, 0, 0, 0, 0, 0, 0, 0, 0]\n",
            "X: [0, 0, 1, 0, 0, 0, 0, 0, 0, 0, 0, 0, 0, 0, 0, 0, 0, 0, 0, 0, 0, 0, 0, 0, 0, 0, 0, 0, 0, 0, 0, 0, 0, 0, 0, 0, 0, 0, 0, 0, 0, 0, 0, 0, 0, 0, 0, 0, 0, 0, 0, 0, 0, 0, 0, 0, 0, 0, 0, 0, 0, 0, 0, 0, 0, 0, 0, 0, 0, 0, 0, 0, 0, 0, 0, 0, 0, 0, 0, 0, 0, 0, 0, 0, 0, 0]\n",
            "X: [0, 0, 0, 0, 0, 0, 0, 0, 0, 0, 0, 0, 0, 0, 0, 0, 0, 0, 0, 0, 0, 0, 0, 0, 0, 0, 0, 0, 0, 0, 0, 0, 0, 0, 0, 0, 0, 0, 0, 0, 0, 0, 0, 0, 0, 0, 0, 0, 0, 0, 0, 0, 0, 0, 0, 0, 0, 0, 0, 0, 0, 0, 0, 0, 0, 0, 0, 0, 1, 0, 0, 0, 0, 0, 0, 0, 0, 0, 0, 0, 0, 0, 0, 0, 0, 0]\n",
            "X: [0, 0, 0, 0, 0, 0, 0, 0, 0, 0, 0, 0, 0, 0, 0, 0, 0, 0, 0, 0, 0, 0, 0, 0, 0, 0, 0, 0, 0, 0, 0, 0, 0, 0, 0, 0, 0, 0, 0, 0, 0, 0, 0, 0, 0, 0, 0, 0, 0, 0, 0, 0, 0, 0, 0, 0, 0, 0, 0, 0, 0, 0, 0, 1, 0, 0, 0, 0, 0, 0, 0, 0, 0, 0, 0, 0, 0, 0, 0, 0, 0, 0, 0, 0, 0, 0]\n",
            "X: [0, 0, 0, 0, 0, 0, 0, 0, 0, 0, 0, 0, 0, 0, 0, 0, 0, 0, 0, 0, 0, 0, 0, 0, 0, 0, 0, 0, 0, 0, 1, 0, 0, 0, 0, 0, 0, 0, 0, 0, 0, 0, 0, 0, 0, 0, 0, 0, 0, 0, 0, 0, 0, 0, 0, 0, 0, 0, 0, 0, 0, 0, 0, 0, 0, 0, 0, 0, 0, 0, 0, 0, 0, 0, 0, 0, 0, 0, 0, 0, 0, 0, 0, 0, 0, 0]\n",
            "X: [0, 0, 0, 0, 0, 0, 0, 0, 0, 0, 0, 0, 0, 0, 0, 0, 0, 0, 0, 0, 0, 0, 0, 0, 0, 0, 0, 0, 0, 0, 0, 0, 0, 0, 0, 0, 0, 1, 0, 1, 0, 0, 0, 0, 0, 0, 0, 0, 1, 0, 0, 0, 0, 0, 0, 0, 0, 0, 0, 0, 0, 0, 0, 0, 0, 0, 0, 0, 0, 0, 0, 0, 0, 0, 0, 0, 0, 0, 0, 0, 0, 0, 0, 1, 0, 0]\n",
            "X: [0, 0, 0, 0, 0, 0, 0, 0, 0, 0, 0, 0, 0, 0, 0, 0, 0, 0, 0, 0, 0, 0, 0, 0, 0, 0, 0, 0, 0, 0, 0, 0, 0, 0, 0, 0, 0, 0, 0, 0, 0, 0, 0, 0, 0, 0, 0, 0, 0, 0, 0, 0, 0, 0, 0, 0, 0, 0, 0, 0, 0, 0, 0, 0, 0, 0, 0, 0, 0, 0, 0, 0, 0, 0, 0, 0, 0, 0, 0, 1, 0, 0, 0, 0, 0, 0]\n",
            "X: [0, 0, 0, 0, 0, 0, 0, 0, 0, 0, 0, 0, 0, 0, 0, 0, 0, 0, 0, 0, 0, 0, 0, 0, 0, 1, 0, 0, 0, 0, 0, 1, 0, 0, 0, 0, 0, 0, 0, 0, 0, 0, 0, 0, 0, 0, 0, 0, 1, 0, 0, 0, 0, 0, 0, 0, 0, 0, 0, 0, 0, 0, 0, 0, 0, 0, 0, 0, 1, 0, 0, 0, 0, 0, 0, 0, 0, 0, 0, 0, 0, 0, 0, 0, 0, 0]\n",
            "X: [0, 0, 0, 0, 0, 0, 0, 0, 0, 0, 0, 0, 0, 0, 0, 0, 0, 0, 1, 0, 0, 0, 0, 0, 0, 0, 0, 0, 0, 0, 0, 0, 0, 0, 0, 0, 0, 0, 0, 0, 0, 0, 0, 0, 0, 0, 0, 0, 1, 0, 0, 0, 0, 0, 0, 0, 0, 0, 0, 0, 0, 0, 0, 0, 0, 0, 0, 0, 1, 0, 0, 0, 0, 0, 0, 0, 0, 0, 0, 0, 0, 0, 0, 0, 0, 0]\n",
            "X: [0, 0, 0, 0, 0, 0, 0, 0, 0, 0, 0, 0, 0, 0, 0, 0, 0, 0, 0, 0, 0, 0, 0, 0, 0, 0, 0, 0, 0, 0, 0, 0, 0, 0, 0, 0, 0, 0, 0, 1, 0, 0, 0, 0, 0, 0, 0, 0, 1, 0, 0, 0, 0, 0, 0, 0, 0, 0, 0, 0, 0, 0, 0, 0, 0, 0, 0, 0, 0, 0, 0, 0, 0, 0, 0, 0, 0, 0, 0, 1, 0, 0, 0, 0, 0, 0]\n",
            "X: [0, 0, 0, 0, 0, 0, 0, 0, 0, 0, 0, 0, 0, 0, 0, 0, 0, 0, 0, 0, 0, 1, 0, 0, 0, 0, 0, 0, 0, 0, 0, 0, 0, 0, 0, 0, 0, 0, 0, 1, 0, 0, 0, 0, 1, 0, 0, 0, 1, 0, 0, 0, 0, 0, 0, 0, 0, 0, 0, 0, 0, 0, 0, 0, 0, 0, 0, 0, 0, 0, 0, 0, 0, 0, 0, 0, 0, 0, 0, 1, 0, 0, 0, 0, 1, 0]\n",
            "X: [0, 0, 0, 0, 0, 0, 0, 0, 0, 0, 0, 0, 0, 0, 0, 0, 1, 1, 0, 0, 0, 0, 0, 0, 0, 0, 0, 0, 0, 0, 0, 0, 0, 0, 0, 0, 0, 0, 0, 0, 0, 0, 0, 0, 0, 0, 0, 0, 1, 0, 0, 0, 0, 0, 0, 0, 0, 0, 0, 0, 0, 0, 0, 0, 0, 0, 0, 0, 1, 0, 0, 0, 0, 0, 0, 0, 0, 0, 0, 0, 0, 0, 0, 0, 0, 0]\n",
            "X: [0, 0, 0, 0, 0, 0, 0, 0, 0, 0, 0, 0, 0, 0, 0, 0, 0, 0, 0, 0, 0, 0, 0, 1, 0, 0, 0, 0, 0, 0, 0, 0, 0, 0, 0, 0, 0, 1, 0, 1, 0, 0, 0, 0, 0, 0, 0, 0, 1, 0, 0, 0, 0, 0, 0, 0, 0, 0, 0, 0, 0, 0, 0, 0, 0, 0, 0, 0, 1, 0, 0, 0, 0, 0, 0, 0, 0, 0, 0, 0, 0, 0, 0, 0, 0, 0]\n",
            "X: [0, 0, 0, 0, 0, 0, 0, 0, 0, 0, 0, 0, 0, 0, 0, 0, 0, 0, 0, 0, 0, 0, 0, 0, 0, 0, 0, 0, 0, 0, 1, 0, 0, 0, 0, 0, 0, 0, 0, 1, 0, 0, 0, 0, 0, 0, 0, 0, 1, 0, 0, 0, 0, 0, 0, 0, 0, 0, 1, 0, 0, 0, 0, 0, 0, 0, 0, 0, 1, 0, 0, 0, 0, 0, 0, 0, 0, 0, 0, 1, 0, 0, 0, 1, 0, 0]\n",
            "X: [0, 0, 0, 0, 0, 1, 0, 0, 0, 0, 0, 0, 0, 0, 0, 0, 0, 0, 1, 0, 0, 0, 0, 0, 0, 0, 1, 0, 0, 0, 0, 1, 0, 0, 0, 0, 0, 0, 0, 1, 0, 0, 0, 0, 0, 0, 0, 0, 1, 0, 0, 0, 0, 0, 0, 0, 0, 0, 0, 0, 0, 0, 0, 0, 0, 1, 0, 0, 1, 0, 0, 0, 0, 0, 0, 0, 0, 0, 0, 0, 0, 0, 0, 0, 0, 0]\n",
            "X: [0, 0, 0, 0, 0, 0, 0, 0, 0, 0, 0, 0, 0, 0, 0, 0, 0, 0, 1, 0, 0, 0, 0, 0, 0, 0, 0, 0, 0, 0, 0, 0, 0, 0, 0, 0, 0, 0, 0, 0, 0, 0, 0, 0, 0, 0, 0, 0, 0, 0, 0, 0, 0, 0, 0, 0, 0, 0, 0, 0, 0, 0, 0, 0, 0, 0, 0, 0, 1, 0, 0, 0, 0, 0, 0, 0, 0, 0, 0, 0, 0, 0, 0, 0, 0, 0]\n",
            "X: [0, 0, 0, 0, 0, 0, 0, 0, 0, 0, 0, 0, 0, 0, 0, 0, 0, 0, 0, 0, 0, 0, 0, 0, 0, 0, 0, 0, 0, 0, 0, 0, 0, 0, 0, 0, 0, 0, 0, 0, 0, 0, 0, 0, 0, 0, 0, 0, 0, 0, 0, 0, 0, 0, 0, 0, 0, 0, 0, 0, 0, 0, 0, 0, 0, 0, 0, 0, 1, 0, 0, 0, 0, 0, 0, 0, 0, 0, 0, 0, 0, 0, 0, 0, 0, 0]\n",
            "X: [0, 0, 0, 0, 0, 0, 0, 0, 0, 0, 0, 0, 0, 0, 0, 0, 0, 0, 0, 0, 0, 0, 0, 0, 0, 0, 0, 0, 0, 0, 0, 0, 0, 0, 0, 0, 0, 0, 0, 0, 0, 0, 0, 0, 0, 0, 0, 0, 0, 0, 0, 0, 0, 0, 0, 0, 0, 0, 0, 0, 0, 0, 0, 0, 0, 0, 0, 0, 1, 0, 0, 0, 0, 0, 0, 0, 0, 0, 0, 0, 0, 0, 0, 0, 0, 0]\n",
            "X: [0, 0, 0, 0, 0, 0, 0, 0, 0, 0, 0, 0, 0, 0, 0, 0, 0, 0, 0, 0, 0, 0, 0, 0, 0, 0, 0, 0, 0, 0, 0, 0, 0, 0, 0, 0, 0, 0, 0, 0, 0, 0, 0, 0, 0, 0, 0, 0, 0, 0, 0, 0, 0, 0, 0, 0, 0, 0, 0, 0, 0, 0, 0, 0, 0, 0, 0, 0, 1, 0, 0, 0, 0, 0, 0, 0, 0, 0, 0, 1, 0, 0, 0, 0, 0, 0]\n",
            "X: [0, 0, 0, 0, 0, 0, 0, 0, 0, 0, 0, 0, 0, 0, 0, 0, 0, 0, 0, 0, 0, 0, 0, 0, 0, 0, 0, 0, 0, 0, 1, 0, 0, 0, 0, 0, 0, 0, 0, 0, 0, 0, 0, 0, 0, 0, 0, 0, 0, 0, 0, 0, 0, 0, 0, 0, 0, 0, 0, 0, 0, 0, 0, 0, 0, 0, 0, 0, 1, 0, 0, 0, 0, 0, 0, 0, 0, 0, 0, 0, 0, 0, 0, 0, 0, 0]\n",
            "X: [0, 0, 0, 0, 0, 0, 0, 0, 0, 0, 0, 0, 0, 0, 0, 0, 0, 0, 0, 0, 0, 0, 0, 0, 0, 0, 0, 0, 0, 0, 0, 0, 0, 0, 0, 0, 0, 0, 0, 0, 0, 0, 0, 0, 0, 0, 0, 0, 0, 0, 0, 0, 0, 0, 0, 0, 0, 0, 0, 0, 0, 0, 0, 0, 0, 0, 0, 0, 1, 0, 0, 0, 0, 0, 0, 0, 0, 0, 0, 1, 0, 0, 0, 0, 0, 0]\n",
            "X: [0, 0, 0, 0, 0, 0, 0, 0, 0, 0, 0, 0, 0, 0, 0, 0, 0, 0, 1, 0, 0, 0, 0, 0, 0, 0, 0, 0, 0, 0, 0, 0, 0, 0, 0, 0, 0, 0, 0, 0, 1, 0, 0, 0, 0, 0, 0, 0, 0, 0, 0, 0, 0, 0, 0, 0, 0, 0, 0, 0, 0, 0, 0, 0, 0, 0, 0, 0, 1, 0, 0, 0, 0, 0, 0, 0, 0, 0, 0, 0, 0, 0, 0, 0, 0, 0]\n",
            "X: [0, 0, 0, 0, 0, 0, 0, 0, 0, 0, 0, 0, 0, 1, 0, 0, 0, 0, 0, 0, 0, 0, 0, 0, 0, 0, 0, 0, 0, 0, 0, 0, 0, 0, 0, 0, 0, 0, 0, 0, 1, 0, 0, 0, 0, 0, 0, 0, 0, 1, 0, 0, 0, 0, 0, 0, 0, 0, 0, 0, 0, 0, 0, 0, 0, 0, 0, 0, 1, 0, 0, 0, 0, 1, 0, 0, 0, 0, 0, 0, 0, 0, 0, 0, 0, 0]\n",
            "X: [0, 1, 0, 0, 0, 0, 0, 0, 0, 0, 0, 0, 0, 0, 0, 0, 1, 0, 0, 0, 0, 0, 0, 0, 0, 0, 0, 0, 0, 0, 0, 0, 0, 0, 0, 0, 0, 0, 0, 0, 1, 1, 0, 0, 0, 0, 0, 0, 0, 0, 0, 0, 0, 0, 0, 0, 0, 0, 0, 0, 0, 0, 0, 0, 0, 0, 0, 0, 1, 0, 0, 0, 0, 0, 0, 0, 0, 0, 0, 0, 0, 0, 0, 0, 0, 0]\n",
            "X: [0, 0, 0, 0, 0, 0, 0, 0, 0, 0, 0, 0, 0, 0, 0, 0, 0, 0, 0, 0, 0, 0, 0, 0, 0, 0, 0, 0, 0, 0, 0, 0, 0, 0, 0, 0, 0, 0, 0, 0, 0, 0, 0, 0, 0, 0, 0, 0, 0, 0, 0, 0, 0, 0, 0, 0, 0, 1, 0, 0, 0, 0, 0, 0, 0, 0, 0, 0, 0, 0, 0, 0, 0, 0, 0, 0, 0, 0, 0, 0, 0, 0, 0, 0, 0, 0]\n",
            "X: [0, 0, 0, 0, 0, 0, 0, 0, 0, 0, 0, 0, 0, 0, 0, 0, 0, 0, 0, 0, 0, 0, 0, 0, 0, 0, 0, 0, 0, 0, 0, 0, 0, 0, 0, 0, 0, 0, 0, 0, 0, 0, 1, 0, 0, 0, 0, 0, 0, 0, 0, 0, 0, 0, 0, 0, 0, 0, 0, 0, 0, 0, 0, 0, 0, 0, 0, 0, 0, 0, 0, 0, 0, 0, 0, 0, 0, 0, 0, 0, 0, 0, 0, 0, 0, 0]\n",
            "X: [0, 0, 0, 0, 0, 0, 0, 0, 0, 0, 0, 0, 0, 0, 0, 0, 0, 0, 0, 0, 0, 0, 0, 0, 0, 0, 0, 0, 1, 0, 0, 0, 0, 0, 0, 0, 0, 0, 0, 0, 0, 0, 0, 0, 0, 0, 0, 0, 0, 0, 0, 0, 0, 0, 0, 0, 0, 0, 0, 0, 0, 0, 0, 0, 0, 0, 0, 0, 0, 0, 0, 0, 0, 0, 0, 0, 0, 0, 0, 0, 0, 0, 0, 0, 0, 0]\n",
            "X: [0, 0, 0, 0, 0, 0, 0, 0, 0, 0, 0, 0, 0, 0, 0, 0, 0, 0, 0, 0, 0, 0, 0, 0, 0, 0, 0, 0, 0, 0, 0, 0, 0, 0, 0, 0, 0, 0, 0, 0, 0, 0, 0, 0, 0, 0, 0, 0, 0, 0, 0, 0, 0, 0, 0, 0, 0, 0, 0, 0, 0, 0, 0, 0, 0, 0, 0, 0, 0, 0, 0, 0, 0, 0, 0, 0, 1, 0, 0, 0, 0, 0, 0, 0, 0, 0]\n",
            "X: [0, 0, 0, 0, 0, 0, 0, 0, 0, 0, 0, 0, 0, 0, 0, 0, 1, 0, 0, 0, 0, 0, 0, 0, 0, 0, 0, 0, 1, 0, 0, 0, 0, 1, 0, 0, 0, 0, 0, 0, 0, 0, 0, 0, 0, 0, 0, 0, 0, 0, 0, 0, 0, 0, 0, 0, 0, 0, 0, 0, 0, 0, 0, 1, 0, 0, 0, 0, 1, 0, 0, 0, 0, 0, 0, 0, 0, 0, 0, 0, 0, 1, 0, 0, 0, 0]\n",
            "X: [0, 0, 0, 0, 0, 0, 0, 0, 0, 0, 0, 0, 0, 0, 0, 0, 1, 0, 0, 0, 0, 0, 0, 0, 0, 0, 0, 0, 0, 0, 0, 0, 0, 1, 0, 0, 0, 0, 0, 0, 0, 0, 0, 0, 0, 0, 0, 0, 0, 0, 0, 0, 0, 0, 0, 0, 0, 1, 0, 0, 0, 0, 0, 1, 0, 0, 0, 0, 1, 0, 0, 0, 0, 0, 0, 0, 0, 0, 0, 0, 0, 1, 0, 0, 0, 0]\n",
            "X: [0, 0, 0, 0, 0, 0, 0, 0, 0, 0, 0, 0, 0, 0, 0, 0, 1, 0, 0, 0, 0, 0, 0, 0, 0, 0, 0, 0, 0, 0, 0, 0, 0, 1, 0, 0, 0, 0, 0, 0, 0, 0, 1, 0, 0, 0, 0, 0, 0, 0, 0, 0, 0, 0, 0, 0, 0, 0, 0, 0, 0, 0, 0, 1, 0, 0, 0, 0, 1, 0, 0, 0, 0, 0, 0, 0, 0, 0, 0, 0, 0, 1, 0, 0, 0, 0]\n",
            "X: [0, 0, 0, 0, 0, 0, 0, 0, 0, 0, 0, 0, 0, 0, 0, 0, 0, 0, 0, 0, 0, 0, 0, 0, 0, 0, 0, 0, 0, 0, 0, 0, 0, 0, 0, 0, 0, 0, 0, 0, 0, 0, 0, 0, 0, 0, 0, 0, 0, 0, 0, 0, 0, 0, 1, 0, 0, 0, 0, 0, 0, 0, 0, 0, 0, 0, 0, 0, 1, 0, 0, 0, 0, 0, 0, 0, 1, 0, 0, 1, 0, 0, 0, 0, 0, 0]\n",
            "X: [0, 0, 0, 0, 0, 0, 0, 0, 0, 0, 0, 0, 0, 0, 0, 0, 1, 0, 0, 0, 0, 0, 0, 0, 0, 0, 0, 0, 0, 0, 0, 0, 0, 1, 0, 0, 0, 0, 0, 0, 0, 0, 0, 0, 0, 0, 0, 0, 0, 0, 0, 0, 0, 0, 0, 0, 0, 0, 0, 0, 0, 0, 0, 0, 0, 0, 0, 0, 1, 0, 0, 0, 0, 0, 0, 0, 1, 0, 0, 0, 0, 1, 0, 0, 0, 0]\n",
            "X: [0, 0, 0, 0, 0, 0, 0, 0, 0, 0, 0, 0, 0, 0, 0, 0, 0, 0, 0, 0, 0, 0, 0, 0, 0, 0, 0, 0, 0, 0, 0, 0, 0, 0, 0, 0, 0, 0, 0, 0, 0, 0, 0, 0, 0, 0, 0, 0, 0, 0, 0, 0, 0, 0, 0, 0, 0, 0, 0, 0, 0, 0, 0, 1, 0, 0, 0, 0, 1, 0, 0, 0, 0, 0, 0, 0, 0, 0, 0, 0, 0, 0, 0, 0, 0, 0]\n",
            "X: [0, 0, 0, 0, 0, 0, 0, 0, 0, 0, 0, 0, 0, 0, 0, 0, 0, 0, 0, 0, 0, 0, 0, 0, 0, 0, 0, 0, 0, 0, 1, 0, 0, 0, 0, 0, 0, 0, 0, 0, 0, 0, 0, 0, 0, 0, 0, 0, 0, 0, 0, 0, 0, 0, 0, 0, 0, 0, 0, 0, 0, 0, 0, 0, 0, 0, 0, 0, 1, 0, 0, 0, 0, 0, 0, 0, 0, 0, 0, 0, 0, 0, 0, 0, 0, 0]\n",
            "X: [0, 0, 0, 0, 0, 0, 0, 0, 0, 0, 0, 0, 0, 0, 0, 0, 0, 0, 0, 0, 0, 0, 0, 0, 0, 0, 0, 0, 0, 0, 0, 0, 0, 0, 0, 0, 0, 0, 0, 0, 0, 0, 0, 0, 0, 0, 0, 0, 0, 0, 0, 0, 0, 0, 0, 0, 0, 0, 0, 0, 0, 0, 0, 0, 0, 0, 0, 0, 1, 0, 0, 0, 0, 0, 0, 0, 0, 0, 0, 0, 0, 0, 0, 0, 0, 0]\n",
            "X: [0, 0, 0, 0, 0, 0, 0, 0, 0, 0, 0, 0, 0, 0, 0, 0, 0, 0, 0, 0, 0, 0, 0, 0, 0, 0, 0, 0, 0, 0, 0, 0, 0, 0, 0, 0, 0, 0, 0, 0, 0, 0, 0, 0, 0, 0, 0, 0, 0, 0, 0, 0, 0, 0, 0, 0, 0, 0, 0, 0, 0, 0, 0, 0, 0, 0, 0, 0, 1, 0, 0, 0, 0, 0, 0, 0, 0, 0, 0, 1, 0, 0, 0, 0, 0, 0]\n"
          ]
        }
      ]
    },
    {
      "cell_type": "code",
      "source": [
        "y_train = tf.keras.utils.to_categorical(doc_y_encoded)\n",
        "y_train[:4]"
      ],
      "metadata": {
        "colab": {
          "base_uri": "https://localhost:8080/"
        },
        "id": "_XjTi9kCAvss",
        "outputId": "4ee62ac0-312f-4767-974a-b8215d2e34af"
      },
      "execution_count": 36,
      "outputs": [
        {
          "output_type": "execute_result",
          "data": {
            "text/plain": [
              "array([[0., 0., 0., 0., 0., 0., 0., 0., 0., 1., 0., 0., 0., 0., 0., 0.,\n",
              "        0., 0., 0.],\n",
              "       [0., 0., 0., 0., 0., 0., 0., 0., 0., 1., 0., 0., 0., 0., 0., 0.,\n",
              "        0., 0., 0.],\n",
              "       [0., 0., 0., 0., 1., 0., 0., 0., 0., 0., 0., 0., 0., 0., 0., 0.,\n",
              "        0., 0., 0.],\n",
              "       [0., 0., 0., 0., 1., 0., 0., 0., 0., 0., 0., 0., 0., 0., 0., 0.,\n",
              "        0., 0., 0.]], dtype=float32)"
            ]
          },
          "metadata": {},
          "execution_count": 36
        }
      ]
    },
    {
      "cell_type": "code",
      "source": [
        "input_shape = X_train.shape[1]\n",
        "output_shape = y_train.shape[1]\n",
        "print(\"input:\", input_shape, \"output:\", output_shape)"
      ],
      "metadata": {
        "colab": {
          "base_uri": "https://localhost:8080/"
        },
        "id": "-8mPpUAHA2gM",
        "outputId": "42e8f614-ab9e-4237-d1aa-53e3da3885c2"
      },
      "execution_count": 37,
      "outputs": [
        {
          "output_type": "stream",
          "name": "stdout",
          "text": [
            "input: 86 output: 19\n"
          ]
        }
      ]
    },
    {
      "cell_type": "code",
      "source": [
        "# Entrenamiento del modelo DNN\n",
        "# - Modelo secuencial\n",
        "# - Con regularización\n",
        "# - softmax y optimizador Adam\n",
        "model = Sequential()\n",
        "model.add(Dense(128, activation=\"relu\", input_shape=(input_shape,)))\n",
        "model.add(Dropout(0.5))\n",
        "model.add(Dense(64, activation=\"relu\"))\n",
        "model.add(Dropout(0.5))\n",
        "model.add(Dense(output_shape, activation = \"softmax\"))\n",
        "\n",
        "model.compile(loss='categorical_crossentropy',\n",
        "              optimizer=\"Adam\",\n",
        "              metrics=[\"accuracy\"])\n",
        "print(model.summary())"
      ],
      "metadata": {
        "colab": {
          "base_uri": "https://localhost:8080/"
        },
        "id": "Ofk4sJiMA51E",
        "outputId": "381c6bec-a7b0-4978-fdd6-40c3cbf6f8f4"
      },
      "execution_count": 38,
      "outputs": [
        {
          "output_type": "stream",
          "name": "stdout",
          "text": [
            "Model: \"sequential_1\"\n",
            "_________________________________________________________________\n",
            " Layer (type)                Output Shape              Param #   \n",
            "=================================================================\n",
            " dense_3 (Dense)             (None, 128)               11136     \n",
            "                                                                 \n",
            " dropout_2 (Dropout)         (None, 128)               0         \n",
            "                                                                 \n",
            " dense_4 (Dense)             (None, 64)                8256      \n",
            "                                                                 \n",
            " dropout_3 (Dropout)         (None, 64)                0         \n",
            "                                                                 \n",
            " dense_5 (Dense)             (None, 19)                1235      \n",
            "                                                                 \n",
            "=================================================================\n",
            "Total params: 20627 (80.57 KB)\n",
            "Trainable params: 20627 (80.57 KB)\n",
            "Non-trainable params: 0 (0.00 Byte)\n",
            "_________________________________________________________________\n",
            "None\n"
          ]
        }
      ]
    },
    {
      "cell_type": "code",
      "source": [
        "hist = model.fit(x=X_train, y=y_train, epochs=200, verbose=1)"
      ],
      "metadata": {
        "colab": {
          "base_uri": "https://localhost:8080/"
        },
        "id": "Xb7GpMOhA_Kc",
        "outputId": "b620a09a-ff3d-426d-ee2d-75cb9e409da7"
      },
      "execution_count": 40,
      "outputs": [
        {
          "output_type": "stream",
          "name": "stdout",
          "text": [
            "Epoch 1/200\n",
            "4/4 [==============================] - 1s 5ms/step - loss: 2.9463 - accuracy: 0.0909\n",
            "Epoch 2/200\n",
            "4/4 [==============================] - 0s 5ms/step - loss: 2.8842 - accuracy: 0.1212\n",
            "Epoch 3/200\n",
            "4/4 [==============================] - 0s 4ms/step - loss: 2.8831 - accuracy: 0.0909\n",
            "Epoch 4/200\n",
            "4/4 [==============================] - 0s 4ms/step - loss: 2.8611 - accuracy: 0.1010\n",
            "Epoch 5/200\n",
            "4/4 [==============================] - 0s 4ms/step - loss: 2.8554 - accuracy: 0.1212\n",
            "Epoch 6/200\n",
            "4/4 [==============================] - 0s 4ms/step - loss: 2.8302 - accuracy: 0.1111\n",
            "Epoch 7/200\n",
            "4/4 [==============================] - 0s 5ms/step - loss: 2.7477 - accuracy: 0.2323\n",
            "Epoch 8/200\n",
            "4/4 [==============================] - 0s 4ms/step - loss: 2.7307 - accuracy: 0.2121\n",
            "Epoch 9/200\n",
            "4/4 [==============================] - 0s 5ms/step - loss: 2.7912 - accuracy: 0.1717\n",
            "Epoch 10/200\n",
            "4/4 [==============================] - 0s 4ms/step - loss: 2.7242 - accuracy: 0.2525\n",
            "Epoch 11/200\n",
            "4/4 [==============================] - 0s 5ms/step - loss: 2.7238 - accuracy: 0.2121\n",
            "Epoch 12/200\n",
            "4/4 [==============================] - 0s 4ms/step - loss: 2.6762 - accuracy: 0.2727\n",
            "Epoch 13/200\n",
            "4/4 [==============================] - 0s 7ms/step - loss: 2.6614 - accuracy: 0.2222\n",
            "Epoch 14/200\n",
            "4/4 [==============================] - 0s 5ms/step - loss: 2.6276 - accuracy: 0.2727\n",
            "Epoch 15/200\n",
            "4/4 [==============================] - 0s 5ms/step - loss: 2.6195 - accuracy: 0.2828\n",
            "Epoch 16/200\n",
            "4/4 [==============================] - 0s 4ms/step - loss: 2.6024 - accuracy: 0.2727\n",
            "Epoch 17/200\n",
            "4/4 [==============================] - 0s 4ms/step - loss: 2.5375 - accuracy: 0.2929\n",
            "Epoch 18/200\n",
            "4/4 [==============================] - 0s 5ms/step - loss: 2.5066 - accuracy: 0.3434\n",
            "Epoch 19/200\n",
            "4/4 [==============================] - 0s 4ms/step - loss: 2.4720 - accuracy: 0.3636\n",
            "Epoch 20/200\n",
            "4/4 [==============================] - 0s 4ms/step - loss: 2.4881 - accuracy: 0.2626\n",
            "Epoch 21/200\n",
            "4/4 [==============================] - 0s 5ms/step - loss: 2.4714 - accuracy: 0.2929\n",
            "Epoch 22/200\n",
            "4/4 [==============================] - 0s 5ms/step - loss: 2.4359 - accuracy: 0.3131\n",
            "Epoch 23/200\n",
            "4/4 [==============================] - 0s 4ms/step - loss: 2.3757 - accuracy: 0.2929\n",
            "Epoch 24/200\n",
            "4/4 [==============================] - 0s 6ms/step - loss: 2.3910 - accuracy: 0.3232\n",
            "Epoch 25/200\n",
            "4/4 [==============================] - 0s 4ms/step - loss: 2.3184 - accuracy: 0.3535\n",
            "Epoch 26/200\n",
            "4/4 [==============================] - 0s 6ms/step - loss: 2.3540 - accuracy: 0.3030\n",
            "Epoch 27/200\n",
            "4/4 [==============================] - 0s 5ms/step - loss: 2.3600 - accuracy: 0.2828\n",
            "Epoch 28/200\n",
            "4/4 [==============================] - 0s 4ms/step - loss: 2.2970 - accuracy: 0.3232\n",
            "Epoch 29/200\n",
            "4/4 [==============================] - 0s 5ms/step - loss: 2.2312 - accuracy: 0.3838\n",
            "Epoch 30/200\n",
            "4/4 [==============================] - 0s 4ms/step - loss: 2.2158 - accuracy: 0.3333\n",
            "Epoch 31/200\n",
            "4/4 [==============================] - 0s 5ms/step - loss: 2.1473 - accuracy: 0.3737\n",
            "Epoch 32/200\n",
            "4/4 [==============================] - 0s 5ms/step - loss: 2.1752 - accuracy: 0.3636\n",
            "Epoch 33/200\n",
            "4/4 [==============================] - 0s 5ms/step - loss: 2.0987 - accuracy: 0.3838\n",
            "Epoch 34/200\n",
            "4/4 [==============================] - 0s 6ms/step - loss: 2.1581 - accuracy: 0.3737\n",
            "Epoch 35/200\n",
            "4/4 [==============================] - 0s 7ms/step - loss: 2.1025 - accuracy: 0.3434\n",
            "Epoch 36/200\n",
            "4/4 [==============================] - 0s 5ms/step - loss: 2.0723 - accuracy: 0.4141\n",
            "Epoch 37/200\n",
            "4/4 [==============================] - 0s 5ms/step - loss: 2.0457 - accuracy: 0.3838\n",
            "Epoch 38/200\n",
            "4/4 [==============================] - 0s 5ms/step - loss: 2.0251 - accuracy: 0.4747\n",
            "Epoch 39/200\n",
            "4/4 [==============================] - 0s 5ms/step - loss: 2.0264 - accuracy: 0.4141\n",
            "Epoch 40/200\n",
            "4/4 [==============================] - 0s 6ms/step - loss: 2.0251 - accuracy: 0.3939\n",
            "Epoch 41/200\n",
            "4/4 [==============================] - 0s 4ms/step - loss: 1.9235 - accuracy: 0.4545\n",
            "Epoch 42/200\n",
            "4/4 [==============================] - 0s 5ms/step - loss: 1.9545 - accuracy: 0.3636\n",
            "Epoch 43/200\n",
            "4/4 [==============================] - 0s 5ms/step - loss: 1.9334 - accuracy: 0.4040\n",
            "Epoch 44/200\n",
            "4/4 [==============================] - 0s 4ms/step - loss: 1.9872 - accuracy: 0.3838\n",
            "Epoch 45/200\n",
            "4/4 [==============================] - 0s 5ms/step - loss: 1.8754 - accuracy: 0.4848\n",
            "Epoch 46/200\n",
            "4/4 [==============================] - 0s 5ms/step - loss: 1.7839 - accuracy: 0.4444\n",
            "Epoch 47/200\n",
            "4/4 [==============================] - 0s 5ms/step - loss: 1.8696 - accuracy: 0.4646\n",
            "Epoch 48/200\n",
            "4/4 [==============================] - 0s 5ms/step - loss: 1.7644 - accuracy: 0.4747\n",
            "Epoch 49/200\n",
            "4/4 [==============================] - 0s 5ms/step - loss: 1.7769 - accuracy: 0.4949\n",
            "Epoch 50/200\n",
            "4/4 [==============================] - 0s 5ms/step - loss: 1.8274 - accuracy: 0.4646\n",
            "Epoch 51/200\n",
            "4/4 [==============================] - 0s 5ms/step - loss: 1.7940 - accuracy: 0.4141\n",
            "Epoch 52/200\n",
            "4/4 [==============================] - 0s 5ms/step - loss: 1.8212 - accuracy: 0.4343\n",
            "Epoch 53/200\n",
            "4/4 [==============================] - 0s 5ms/step - loss: 1.7270 - accuracy: 0.4949\n",
            "Epoch 54/200\n",
            "4/4 [==============================] - 0s 5ms/step - loss: 1.7347 - accuracy: 0.4747\n",
            "Epoch 55/200\n",
            "4/4 [==============================] - 0s 4ms/step - loss: 1.6476 - accuracy: 0.5152\n",
            "Epoch 56/200\n",
            "4/4 [==============================] - 0s 5ms/step - loss: 1.6690 - accuracy: 0.4848\n",
            "Epoch 57/200\n",
            "4/4 [==============================] - 0s 5ms/step - loss: 1.6522 - accuracy: 0.5253\n",
            "Epoch 58/200\n",
            "4/4 [==============================] - 0s 5ms/step - loss: 1.6058 - accuracy: 0.5354\n",
            "Epoch 59/200\n",
            "4/4 [==============================] - 0s 5ms/step - loss: 1.6401 - accuracy: 0.4949\n",
            "Epoch 60/200\n",
            "4/4 [==============================] - 0s 4ms/step - loss: 1.6492 - accuracy: 0.5253\n",
            "Epoch 61/200\n",
            "4/4 [==============================] - 0s 5ms/step - loss: 1.5002 - accuracy: 0.5859\n",
            "Epoch 62/200\n",
            "4/4 [==============================] - 0s 4ms/step - loss: 1.4822 - accuracy: 0.5758\n",
            "Epoch 63/200\n",
            "4/4 [==============================] - 0s 5ms/step - loss: 1.5129 - accuracy: 0.5455\n",
            "Epoch 64/200\n",
            "4/4 [==============================] - 0s 4ms/step - loss: 1.5130 - accuracy: 0.5455\n",
            "Epoch 65/200\n",
            "4/4 [==============================] - 0s 5ms/step - loss: 1.5458 - accuracy: 0.5354\n",
            "Epoch 66/200\n",
            "4/4 [==============================] - 0s 5ms/step - loss: 1.5045 - accuracy: 0.6263\n",
            "Epoch 67/200\n",
            "4/4 [==============================] - 0s 4ms/step - loss: 1.4087 - accuracy: 0.5960\n",
            "Epoch 68/200\n",
            "4/4 [==============================] - 0s 5ms/step - loss: 1.3970 - accuracy: 0.5960\n",
            "Epoch 69/200\n",
            "4/4 [==============================] - 0s 4ms/step - loss: 1.3881 - accuracy: 0.6061\n",
            "Epoch 70/200\n",
            "4/4 [==============================] - 0s 4ms/step - loss: 1.3887 - accuracy: 0.5657\n",
            "Epoch 71/200\n",
            "4/4 [==============================] - 0s 4ms/step - loss: 1.3297 - accuracy: 0.5758\n",
            "Epoch 72/200\n",
            "4/4 [==============================] - 0s 5ms/step - loss: 1.3854 - accuracy: 0.5758\n",
            "Epoch 73/200\n",
            "4/4 [==============================] - 0s 6ms/step - loss: 1.3280 - accuracy: 0.6465\n",
            "Epoch 74/200\n",
            "4/4 [==============================] - 0s 5ms/step - loss: 1.3797 - accuracy: 0.6162\n",
            "Epoch 75/200\n",
            "4/4 [==============================] - 0s 6ms/step - loss: 1.3531 - accuracy: 0.6061\n",
            "Epoch 76/200\n",
            "4/4 [==============================] - 0s 5ms/step - loss: 1.2140 - accuracy: 0.6566\n",
            "Epoch 77/200\n",
            "4/4 [==============================] - 0s 5ms/step - loss: 1.3674 - accuracy: 0.6364\n",
            "Epoch 78/200\n",
            "4/4 [==============================] - 0s 6ms/step - loss: 1.2828 - accuracy: 0.6162\n",
            "Epoch 79/200\n",
            "4/4 [==============================] - 0s 5ms/step - loss: 1.2238 - accuracy: 0.5859\n",
            "Epoch 80/200\n",
            "4/4 [==============================] - 0s 5ms/step - loss: 1.2123 - accuracy: 0.7071\n",
            "Epoch 81/200\n",
            "4/4 [==============================] - 0s 5ms/step - loss: 1.1883 - accuracy: 0.6263\n",
            "Epoch 82/200\n",
            "4/4 [==============================] - 0s 5ms/step - loss: 1.2235 - accuracy: 0.6364\n",
            "Epoch 83/200\n",
            "4/4 [==============================] - 0s 4ms/step - loss: 1.1731 - accuracy: 0.6970\n",
            "Epoch 84/200\n",
            "4/4 [==============================] - 0s 5ms/step - loss: 1.1714 - accuracy: 0.6768\n",
            "Epoch 85/200\n",
            "4/4 [==============================] - 0s 4ms/step - loss: 1.1374 - accuracy: 0.7374\n",
            "Epoch 86/200\n",
            "4/4 [==============================] - 0s 4ms/step - loss: 1.1684 - accuracy: 0.6768\n",
            "Epoch 87/200\n",
            "4/4 [==============================] - 0s 4ms/step - loss: 1.1892 - accuracy: 0.6566\n",
            "Epoch 88/200\n",
            "4/4 [==============================] - 0s 5ms/step - loss: 1.1002 - accuracy: 0.7071\n",
            "Epoch 89/200\n",
            "4/4 [==============================] - 0s 5ms/step - loss: 1.0119 - accuracy: 0.7677\n",
            "Epoch 90/200\n",
            "4/4 [==============================] - 0s 6ms/step - loss: 1.0369 - accuracy: 0.7980\n",
            "Epoch 91/200\n",
            "4/4 [==============================] - 0s 5ms/step - loss: 1.0481 - accuracy: 0.7273\n",
            "Epoch 92/200\n",
            "4/4 [==============================] - 0s 5ms/step - loss: 1.0531 - accuracy: 0.6667\n",
            "Epoch 93/200\n",
            "4/4 [==============================] - 0s 6ms/step - loss: 1.1046 - accuracy: 0.6970\n",
            "Epoch 94/200\n",
            "4/4 [==============================] - 0s 5ms/step - loss: 1.0825 - accuracy: 0.7172\n",
            "Epoch 95/200\n",
            "4/4 [==============================] - 0s 5ms/step - loss: 1.0791 - accuracy: 0.7071\n",
            "Epoch 96/200\n",
            "4/4 [==============================] - 0s 5ms/step - loss: 1.0590 - accuracy: 0.6566\n",
            "Epoch 97/200\n",
            "4/4 [==============================] - 0s 6ms/step - loss: 1.1845 - accuracy: 0.6566\n",
            "Epoch 98/200\n",
            "4/4 [==============================] - 0s 5ms/step - loss: 1.0276 - accuracy: 0.7071\n",
            "Epoch 99/200\n",
            "4/4 [==============================] - 0s 6ms/step - loss: 1.0607 - accuracy: 0.6768\n",
            "Epoch 100/200\n",
            "4/4 [==============================] - 0s 6ms/step - loss: 1.0141 - accuracy: 0.6869\n",
            "Epoch 101/200\n",
            "4/4 [==============================] - 0s 5ms/step - loss: 1.0351 - accuracy: 0.6869\n",
            "Epoch 102/200\n",
            "4/4 [==============================] - 0s 6ms/step - loss: 1.0475 - accuracy: 0.7677\n",
            "Epoch 103/200\n",
            "4/4 [==============================] - 0s 5ms/step - loss: 0.9738 - accuracy: 0.7576\n",
            "Epoch 104/200\n",
            "4/4 [==============================] - 0s 5ms/step - loss: 0.9092 - accuracy: 0.7374\n",
            "Epoch 105/200\n",
            "4/4 [==============================] - 0s 4ms/step - loss: 0.8435 - accuracy: 0.7879\n",
            "Epoch 106/200\n",
            "4/4 [==============================] - 0s 5ms/step - loss: 1.0177 - accuracy: 0.7071\n",
            "Epoch 107/200\n",
            "4/4 [==============================] - 0s 5ms/step - loss: 0.9571 - accuracy: 0.7677\n",
            "Epoch 108/200\n",
            "4/4 [==============================] - 0s 4ms/step - loss: 0.9127 - accuracy: 0.7778\n",
            "Epoch 109/200\n",
            "4/4 [==============================] - 0s 4ms/step - loss: 0.8266 - accuracy: 0.7879\n",
            "Epoch 110/200\n",
            "4/4 [==============================] - 0s 5ms/step - loss: 0.8599 - accuracy: 0.7677\n",
            "Epoch 111/200\n",
            "4/4 [==============================] - 0s 5ms/step - loss: 0.9141 - accuracy: 0.7374\n",
            "Epoch 112/200\n",
            "4/4 [==============================] - 0s 5ms/step - loss: 0.8619 - accuracy: 0.7475\n",
            "Epoch 113/200\n",
            "4/4 [==============================] - 0s 5ms/step - loss: 0.8511 - accuracy: 0.7879\n",
            "Epoch 114/200\n",
            "4/4 [==============================] - 0s 5ms/step - loss: 0.9380 - accuracy: 0.6970\n",
            "Epoch 115/200\n",
            "4/4 [==============================] - 0s 6ms/step - loss: 0.9357 - accuracy: 0.7475\n",
            "Epoch 116/200\n",
            "4/4 [==============================] - 0s 6ms/step - loss: 0.7362 - accuracy: 0.8081\n",
            "Epoch 117/200\n",
            "4/4 [==============================] - 0s 6ms/step - loss: 0.8734 - accuracy: 0.7374\n",
            "Epoch 118/200\n",
            "4/4 [==============================] - 0s 5ms/step - loss: 0.9554 - accuracy: 0.6768\n",
            "Epoch 119/200\n",
            "4/4 [==============================] - 0s 5ms/step - loss: 0.8755 - accuracy: 0.7475\n",
            "Epoch 120/200\n",
            "4/4 [==============================] - 0s 5ms/step - loss: 0.8963 - accuracy: 0.7172\n",
            "Epoch 121/200\n",
            "4/4 [==============================] - 0s 6ms/step - loss: 0.8440 - accuracy: 0.7980\n",
            "Epoch 122/200\n",
            "4/4 [==============================] - 0s 5ms/step - loss: 0.8178 - accuracy: 0.7071\n",
            "Epoch 123/200\n",
            "4/4 [==============================] - 0s 5ms/step - loss: 0.9011 - accuracy: 0.7677\n",
            "Epoch 124/200\n",
            "4/4 [==============================] - 0s 6ms/step - loss: 0.8655 - accuracy: 0.7273\n",
            "Epoch 125/200\n",
            "4/4 [==============================] - 0s 6ms/step - loss: 0.9094 - accuracy: 0.7374\n",
            "Epoch 126/200\n",
            "4/4 [==============================] - 0s 6ms/step - loss: 0.8592 - accuracy: 0.7677\n",
            "Epoch 127/200\n",
            "4/4 [==============================] - 0s 6ms/step - loss: 0.9791 - accuracy: 0.6869\n",
            "Epoch 128/200\n",
            "4/4 [==============================] - 0s 5ms/step - loss: 0.7849 - accuracy: 0.7576\n",
            "Epoch 129/200\n",
            "4/4 [==============================] - 0s 5ms/step - loss: 0.8732 - accuracy: 0.7576\n",
            "Epoch 130/200\n",
            "4/4 [==============================] - 0s 5ms/step - loss: 0.7856 - accuracy: 0.7778\n",
            "Epoch 131/200\n",
            "4/4 [==============================] - 0s 5ms/step - loss: 0.7256 - accuracy: 0.7980\n",
            "Epoch 132/200\n",
            "4/4 [==============================] - 0s 5ms/step - loss: 0.7740 - accuracy: 0.7879\n",
            "Epoch 133/200\n",
            "4/4 [==============================] - 0s 4ms/step - loss: 0.7987 - accuracy: 0.8182\n",
            "Epoch 134/200\n",
            "4/4 [==============================] - 0s 6ms/step - loss: 0.7005 - accuracy: 0.7778\n",
            "Epoch 135/200\n",
            "4/4 [==============================] - 0s 6ms/step - loss: 0.7215 - accuracy: 0.8182\n",
            "Epoch 136/200\n",
            "4/4 [==============================] - 0s 5ms/step - loss: 0.6317 - accuracy: 0.8485\n",
            "Epoch 137/200\n",
            "4/4 [==============================] - 0s 5ms/step - loss: 0.7818 - accuracy: 0.7677\n",
            "Epoch 138/200\n",
            "4/4 [==============================] - 0s 4ms/step - loss: 0.6579 - accuracy: 0.8788\n",
            "Epoch 139/200\n",
            "4/4 [==============================] - 0s 5ms/step - loss: 0.6310 - accuracy: 0.8586\n",
            "Epoch 140/200\n",
            "4/4 [==============================] - 0s 7ms/step - loss: 0.7329 - accuracy: 0.7778\n",
            "Epoch 141/200\n",
            "4/4 [==============================] - 0s 5ms/step - loss: 0.7482 - accuracy: 0.7273\n",
            "Epoch 142/200\n",
            "4/4 [==============================] - 0s 5ms/step - loss: 0.7441 - accuracy: 0.7677\n",
            "Epoch 143/200\n",
            "4/4 [==============================] - 0s 5ms/step - loss: 0.7519 - accuracy: 0.7879\n",
            "Epoch 144/200\n",
            "4/4 [==============================] - 0s 5ms/step - loss: 0.7728 - accuracy: 0.7879\n",
            "Epoch 145/200\n",
            "4/4 [==============================] - 0s 5ms/step - loss: 0.7322 - accuracy: 0.7778\n",
            "Epoch 146/200\n",
            "4/4 [==============================] - 0s 5ms/step - loss: 0.6531 - accuracy: 0.8081\n",
            "Epoch 147/200\n",
            "4/4 [==============================] - 0s 5ms/step - loss: 0.7009 - accuracy: 0.7778\n",
            "Epoch 148/200\n",
            "4/4 [==============================] - 0s 5ms/step - loss: 0.6391 - accuracy: 0.8081\n",
            "Epoch 149/200\n",
            "4/4 [==============================] - 0s 5ms/step - loss: 0.6590 - accuracy: 0.7879\n",
            "Epoch 150/200\n",
            "4/4 [==============================] - 0s 5ms/step - loss: 0.7346 - accuracy: 0.7778\n",
            "Epoch 151/200\n",
            "4/4 [==============================] - 0s 5ms/step - loss: 0.6702 - accuracy: 0.8081\n",
            "Epoch 152/200\n",
            "4/4 [==============================] - 0s 5ms/step - loss: 0.7123 - accuracy: 0.8081\n",
            "Epoch 153/200\n",
            "4/4 [==============================] - 0s 5ms/step - loss: 0.6875 - accuracy: 0.7778\n",
            "Epoch 154/200\n",
            "4/4 [==============================] - 0s 5ms/step - loss: 0.6148 - accuracy: 0.7576\n",
            "Epoch 155/200\n",
            "4/4 [==============================] - 0s 5ms/step - loss: 0.5758 - accuracy: 0.8384\n",
            "Epoch 156/200\n",
            "4/4 [==============================] - 0s 6ms/step - loss: 0.6137 - accuracy: 0.8182\n",
            "Epoch 157/200\n",
            "4/4 [==============================] - 0s 6ms/step - loss: 0.6474 - accuracy: 0.7778\n",
            "Epoch 158/200\n",
            "4/4 [==============================] - 0s 5ms/step - loss: 0.6591 - accuracy: 0.7980\n",
            "Epoch 159/200\n",
            "4/4 [==============================] - 0s 6ms/step - loss: 0.5771 - accuracy: 0.8182\n",
            "Epoch 160/200\n",
            "4/4 [==============================] - 0s 5ms/step - loss: 0.6255 - accuracy: 0.7475\n",
            "Epoch 161/200\n",
            "4/4 [==============================] - 0s 6ms/step - loss: 0.5180 - accuracy: 0.8586\n",
            "Epoch 162/200\n",
            "4/4 [==============================] - 0s 5ms/step - loss: 0.6132 - accuracy: 0.8182\n",
            "Epoch 163/200\n",
            "4/4 [==============================] - 0s 5ms/step - loss: 0.6608 - accuracy: 0.8182\n",
            "Epoch 164/200\n",
            "4/4 [==============================] - 0s 5ms/step - loss: 0.6267 - accuracy: 0.8283\n",
            "Epoch 165/200\n",
            "4/4 [==============================] - 0s 5ms/step - loss: 0.5435 - accuracy: 0.8283\n",
            "Epoch 166/200\n",
            "4/4 [==============================] - 0s 6ms/step - loss: 0.6101 - accuracy: 0.7980\n",
            "Epoch 167/200\n",
            "4/4 [==============================] - 0s 5ms/step - loss: 0.6709 - accuracy: 0.8182\n",
            "Epoch 168/200\n",
            "4/4 [==============================] - 0s 5ms/step - loss: 0.5861 - accuracy: 0.8384\n",
            "Epoch 169/200\n",
            "4/4 [==============================] - 0s 6ms/step - loss: 0.5968 - accuracy: 0.8182\n",
            "Epoch 170/200\n",
            "4/4 [==============================] - 0s 5ms/step - loss: 0.6648 - accuracy: 0.7374\n",
            "Epoch 171/200\n",
            "4/4 [==============================] - 0s 5ms/step - loss: 0.5818 - accuracy: 0.7778\n",
            "Epoch 172/200\n",
            "4/4 [==============================] - 0s 6ms/step - loss: 0.5833 - accuracy: 0.8586\n",
            "Epoch 173/200\n",
            "4/4 [==============================] - 0s 5ms/step - loss: 0.6054 - accuracy: 0.8182\n",
            "Epoch 174/200\n",
            "4/4 [==============================] - 0s 5ms/step - loss: 0.5662 - accuracy: 0.8081\n",
            "Epoch 175/200\n",
            "4/4 [==============================] - 0s 6ms/step - loss: 0.6511 - accuracy: 0.8081\n",
            "Epoch 176/200\n",
            "4/4 [==============================] - 0s 5ms/step - loss: 0.5299 - accuracy: 0.8788\n",
            "Epoch 177/200\n",
            "4/4 [==============================] - 0s 7ms/step - loss: 0.5213 - accuracy: 0.8283\n",
            "Epoch 178/200\n",
            "4/4 [==============================] - 0s 5ms/step - loss: 0.5130 - accuracy: 0.8586\n",
            "Epoch 179/200\n",
            "4/4 [==============================] - 0s 6ms/step - loss: 0.6226 - accuracy: 0.8081\n",
            "Epoch 180/200\n",
            "4/4 [==============================] - 0s 6ms/step - loss: 0.6067 - accuracy: 0.8081\n",
            "Epoch 181/200\n",
            "4/4 [==============================] - 0s 6ms/step - loss: 0.6117 - accuracy: 0.8283\n",
            "Epoch 182/200\n",
            "4/4 [==============================] - 0s 6ms/step - loss: 0.5399 - accuracy: 0.8687\n",
            "Epoch 183/200\n",
            "4/4 [==============================] - 0s 5ms/step - loss: 0.4769 - accuracy: 0.8485\n",
            "Epoch 184/200\n",
            "4/4 [==============================] - 0s 6ms/step - loss: 0.5596 - accuracy: 0.8485\n",
            "Epoch 185/200\n",
            "4/4 [==============================] - 0s 6ms/step - loss: 0.6525 - accuracy: 0.7475\n",
            "Epoch 186/200\n",
            "4/4 [==============================] - 0s 5ms/step - loss: 0.5405 - accuracy: 0.8182\n",
            "Epoch 187/200\n",
            "4/4 [==============================] - 0s 5ms/step - loss: 0.5438 - accuracy: 0.8283\n",
            "Epoch 188/200\n",
            "4/4 [==============================] - 0s 6ms/step - loss: 0.5420 - accuracy: 0.8283\n",
            "Epoch 189/200\n",
            "4/4 [==============================] - 0s 9ms/step - loss: 0.4622 - accuracy: 0.8586\n",
            "Epoch 190/200\n",
            "4/4 [==============================] - 0s 7ms/step - loss: 0.5026 - accuracy: 0.8384\n",
            "Epoch 191/200\n",
            "4/4 [==============================] - 0s 6ms/step - loss: 0.5705 - accuracy: 0.8384\n",
            "Epoch 192/200\n",
            "4/4 [==============================] - 0s 7ms/step - loss: 0.5480 - accuracy: 0.7879\n",
            "Epoch 193/200\n",
            "4/4 [==============================] - 0s 6ms/step - loss: 0.4472 - accuracy: 0.8990\n",
            "Epoch 194/200\n",
            "4/4 [==============================] - 0s 8ms/step - loss: 0.4663 - accuracy: 0.8788\n",
            "Epoch 195/200\n",
            "4/4 [==============================] - 0s 6ms/step - loss: 0.4836 - accuracy: 0.8586\n",
            "Epoch 196/200\n",
            "4/4 [==============================] - 0s 7ms/step - loss: 0.5958 - accuracy: 0.8182\n",
            "Epoch 197/200\n",
            "4/4 [==============================] - 0s 5ms/step - loss: 0.5036 - accuracy: 0.8687\n",
            "Epoch 198/200\n",
            "4/4 [==============================] - 0s 7ms/step - loss: 0.5529 - accuracy: 0.8182\n",
            "Epoch 199/200\n",
            "4/4 [==============================] - 0s 6ms/step - loss: 0.5592 - accuracy: 0.8687\n",
            "Epoch 200/200\n",
            "4/4 [==============================] - 0s 9ms/step - loss: 0.5801 - accuracy: 0.8283\n"
          ]
        }
      ]
    },
    {
      "cell_type": "code",
      "source": [
        "import matplotlib.pyplot as plt\n",
        "import seaborn as sns\n",
        "\n",
        "# Entrenamiento\n",
        "epoch_count = range(1, len(hist.history['accuracy']) + 1)\n",
        "sns.lineplot(x=epoch_count,  y=hist.history['accuracy'], label='train')\n",
        "plt.show()"
      ],
      "metadata": {
        "colab": {
          "base_uri": "https://localhost:8080/",
          "height": 430
        },
        "id": "mAiRacjaBGbk",
        "outputId": "7702a21d-39f5-4d73-9d77-fdcf105b0d39"
      },
      "execution_count": 41,
      "outputs": [
        {
          "output_type": "display_data",
          "data": {
            "text/plain": [
              "<Figure size 640x480 with 1 Axes>"
            ],
            "image/png": "[encoded data removed]"
          },
          "metadata": {}
        }
      ]
    },
    {
      "cell_type": "markdown",
      "source": [
        "# Utilizar modelo"
      ],
      "metadata": {
        "id": "O6csPGs5BLo_"
      }
    },
    {
      "cell_type": "code",
      "source": [
        "message = \"Hola, quiero helado\"\n",
        "\n",
        "# preprocesamiento + lematizacion\n",
        "# ------------------------------------------\n",
        "# Transformar la pregunta (input) en tokens y lematizar\n",
        "lemma_words = []\n",
        "tokens = preprocess_clean_text(message).split(\" \") # [\"hola\", \"como\", estas]\n",
        "print('tokens', tokens)\n",
        "\n",
        "for token in tokens:\n",
        "    print('token', token)\n",
        "    lemma = lemma_lookupTable.get(token)\n",
        "    if lemma is not None:\n",
        "        lemma_words.append(lemma)\n",
        "\n",
        "# Transformar los tokens en \"Bag of words\" (arrays de 1 y 0)\n",
        "bow = []\n",
        "for word in vocab:\n",
        "    bow.append(1) if word in lemma_words else bow.append(0)\n",
        "# ------------------------------------------\n",
        "print(bow)\n"
      ],
      "metadata": {
        "colab": {
          "base_uri": "https://localhost:8080/"
        },
        "id": "_bee7_uTBMp0",
        "outputId": "5c0a0b58-f046-4fc3-ae87-a82637db3e6a"
      },
      "execution_count": 42,
      "outputs": [
        {
          "output_type": "stream",
          "name": "stdout",
          "text": [
            "tokens ['hola', 'quiero', 'helado']\n",
            "token hola\n",
            "token quiero\n",
            "token helado\n",
            "[0, 0, 0, 0, 0, 0, 0, 0, 0, 0, 0, 0, 0, 0, 0, 0, 0, 0, 0, 0, 0, 0, 0, 0, 0, 0, 0, 0, 0, 0, 0, 0, 0, 1, 1, 0, 0, 0, 0, 0, 0, 0, 0, 0, 0, 0, 0, 0, 0, 0, 0, 0, 0, 0, 0, 0, 0, 0, 0, 0, 0, 0, 0, 1, 0, 0, 0, 0, 0, 0, 0, 0, 0, 0, 0, 0, 0, 0, 0, 0, 0, 0, 0, 0, 0, 0]\n"
          ]
        }
      ]
    },
    {
      "cell_type": "code",
      "source": [
        "# Toma un conjunto de características (bow), realiza una predicción de\n",
        "# clases utilizando un modelo (model), y luego imprime la clase predicha.\n",
        "#La relación entre índices y clases se obtiene a partir de la lista classes.\n",
        "\n",
        "probs = model.predict([bow])\n",
        "clase_candidata = probs.argmax(axis=1)[0]\n",
        "print(clase_candidata)\n",
        "classes[clase_candidata]"
      ],
      "metadata": {
        "colab": {
          "base_uri": "https://localhost:8080/",
          "height": 70
        },
        "id": "x3fPTcebBghK",
        "outputId": "00724a96-c887-4187-900a-f3232d03b377"
      },
      "execution_count": 43,
      "outputs": [
        {
          "output_type": "stream",
          "name": "stdout",
          "text": [
            "1/1 [==============================] - 0s 80ms/step\n",
            "11\n"
          ]
        },
        {
          "output_type": "execute_result",
          "data": {
            "text/plain": [
              "'pedido'"
            ],
            "application/vnd.google.colaboratory.intrinsic+json": {
              "type": "string"
            }
          },
          "metadata": {},
          "execution_count": 43
        }
      ]
    },
    {
      "cell_type": "code",
      "source": [
        "# este bucle for recorre todas las intenciones en data[\"intents\"] y asigna las respuestas\n",
        "# de cada intención a la sublista correspondiente en responses basándose en la clase asociada a esa intención.\n",
        "responses = [[\"\"]] * len(classes)\n",
        "for intent in data[\"intents\"]:\n",
        "    responses[classes.index(intent[\"tag\"])] = intent[\"responses\"]\n",
        "\n",
        "responses"
      ],
      "metadata": {
        "colab": {
          "base_uri": "https://localhost:8080/"
        },
        "id": "UVh1LfgcBz9l",
        "outputId": "dbdcf0c5-fac5-4127-f1c5-a632a86d37ee"
      },
      "execution_count": 44,
      "outputs": [
        {
          "output_type": "execute_result",
          "data": {
            "text/plain": [
              "[['¡De nada! Estamos felices de ayudarte. ¿Hay algo más en lo que podamos colaborar?',\n",
              "  '¡Gracias a ti por elegir Heladerías Frozen! ¿Necesitas algo más?'],\n",
              " ['¡Hola! Bienvenido a Heladerías Frozen.',\n",
              "  '¡Hola, espero estes muy bien. Bienvenido a Heladerías Frozen!'],\n",
              " ['Perfecto. ¿Quieres agregar algo más a tu pedido?',\n",
              "  'Entendido. ¿Deseas incluir algo más en tu pedido?'],\n",
              " ['Tenemos una variedad de sabores, como Chocolate, Granizado, Limon y Dulce de Leche . ¿Tienes algún sabor en mente?'],\n",
              " ['Podes contactarnos al siguiente número +54-9-11-111-1111',\n",
              "  'Contactonos al whatsapp número +54-9-11-2222-2222'],\n",
              " ['Hasta luego. ¡Que tengas un gran día!',\n",
              "  'Adiós. ¡Esperamos verte de nuevo pronto en Heladerías Frozen!'],\n",
              " ['Perfecto, ¿algún tamaño en particular para tu helado?',\n",
              "  '¡Excelente elección! ¿Qué tamaño prefieres?'],\n",
              " ['Perfecto. Buena elección.'],\n",
              " ['Los envios se realizan por medio de delivery, lo enviaremos a la dirección que registres en la página'],\n",
              " ['Mi nombre es FrozenBOT', 'Yo soy FrozenBOT'],\n",
              " ['Contactanos al whatsapp número +54-9-11-2154-4777 para conocer los beneficios y formas de pago vigentes'],\n",
              " ['Claro, ¿qué sabor de helado te gustaría ordenar?',\n",
              "  'Estamos aquí para ayudarte con tu pedido. ¿Cuáles son tus preferencias?'],\n",
              " ['¡Perfecto! ¿Quieres un tamaño en particular para tu helado?',\n",
              "  '¡Excelente elección! ¿Qué tamaño prefieres para tu helado?'],\n",
              " ['En el catálogo podrás encontrar los precios de todos nuestros productos en stock'],\n",
              " ['¡Entendido! Personalizaremos tu pedido según tus preferencias. Ofrecemos tamaños pequeño, mediano y grande para nuestros helados. ¿Qué tamaño prefieres?'],\n",
              " ['Lo siento, el sabor que mencionaste no está disponible en este momento. ¿Quieres probar con otro sabor?'],\n",
              " ['Tenemos una variedad de sabores, como Chocolate, Granizado, Limon y Dulce de Leche. ¿Tienes algún sabor en mente?'],\n",
              " ['Los productos publicados están en stock'],\n",
              " ['Ofrecemos tamaños pequeño, mediano y grande para nuestros helados. ¿Qué tamaño prefieres?']]"
            ]
          },
          "metadata": {},
          "execution_count": 44
        }
      ]
    },
    {
      "cell_type": "code",
      "source": [
        "for i in range(5):\n",
        "    message = input(\"\")\n",
        "\n",
        "    # preprocesamiento + lematizacion\n",
        "    # ------------------------------------------\n",
        "    # Transformar la pregunta (input) en tokens y lematizar\n",
        "    lemma_words = []\n",
        "    tokens = preprocess_clean_text(message).split(\" \")\n",
        "    for token in tokens:\n",
        "        lemma = lemma_lookupTable.get(token)\n",
        "        if lemma is not None:\n",
        "            lemma_words.append(lemma)\n",
        "\n",
        "    # Transformar los tokens en \"Bag of words\" (arrays de 1 y 0)\n",
        "    bow = []\n",
        "    for word in vocab:\n",
        "        bow.append(1) if word in lemma_words else bow.append(0)\n",
        "    # ------------------------------------------\n",
        "\n",
        "    probs = model.predict([bow])\n",
        "    score = probs.max()\n",
        "    if score > 0.4:  # threshold 0.4\n",
        "        index = probs.argmax(axis=1)[0]\n",
        "        result = random.choice(responses[index])\n",
        "        print(f\"[{score:.2f}]: {result}\")\n",
        "    else:\n",
        "        print(f\"[{score:.2f}] Perdon, no comprendo la pregunta.\")"
      ],
      "metadata": {
        "colab": {
          "base_uri": "https://localhost:8080/",
          "height": 356
        },
        "id": "FH8JI6IJBxQM",
        "outputId": "e1124cda-bb10-4093-a75a-3f6396533091"
      },
      "execution_count": 45,
      "outputs": [
        {
          "output_type": "error",
          "ename": "KeyboardInterrupt",
          "evalue": "Interrupted by user",
          "traceback": [
            "\u001b[0;31m---------------------------------------------------------------------------\u001b[0m",
            "\u001b[0;31mKeyboardInterrupt\u001b[0m                         Traceback (most recent call last)",
            "\u001b[0;32m<ipython-input-45-47026955a19d>\u001b[0m in \u001b[0;36m<cell line: 1>\u001b[0;34m()\u001b[0m\n\u001b[1;32m      1\u001b[0m \u001b[0;32mfor\u001b[0m \u001b[0mi\u001b[0m \u001b[0;32min\u001b[0m \u001b[0mrange\u001b[0m\u001b[0;34m(\u001b[0m\u001b[0;36m5\u001b[0m\u001b[0;34m)\u001b[0m\u001b[0;34m:\u001b[0m\u001b[0;34m\u001b[0m\u001b[0;34m\u001b[0m\u001b[0m\n\u001b[0;32m----> 2\u001b[0;31m     \u001b[0mmessage\u001b[0m \u001b[0;34m=\u001b[0m \u001b[0minput\u001b[0m\u001b[0;34m(\u001b[0m\u001b[0;34m\"\"\u001b[0m\u001b[0;34m)\u001b[0m\u001b[0;34m\u001b[0m\u001b[0;34m\u001b[0m\u001b[0m\n\u001b[0m\u001b[1;32m      3\u001b[0m \u001b[0;34m\u001b[0m\u001b[0m\n\u001b[1;32m      4\u001b[0m     \u001b[0;31m# preprocesamiento + lematizacion\u001b[0m\u001b[0;34m\u001b[0m\u001b[0;34m\u001b[0m\u001b[0m\n\u001b[1;32m      5\u001b[0m     \u001b[0;31m# ------------------------------------------\u001b[0m\u001b[0;34m\u001b[0m\u001b[0;34m\u001b[0m\u001b[0m\n",
            "\u001b[0;32m/usr/local/lib/python3.10/dist-packages/ipykernel/kernelbase.py\u001b[0m in \u001b[0;36mraw_input\u001b[0;34m(self, prompt)\u001b[0m\n\u001b[1;32m    849\u001b[0m                 \u001b[0;34m\"raw_input was called, but this frontend does not support input requests.\"\u001b[0m\u001b[0;34m\u001b[0m\u001b[0;34m\u001b[0m\u001b[0m\n\u001b[1;32m    850\u001b[0m             )\n\u001b[0;32m--> 851\u001b[0;31m         return self._input_request(str(prompt),\n\u001b[0m\u001b[1;32m    852\u001b[0m             \u001b[0mself\u001b[0m\u001b[0;34m.\u001b[0m\u001b[0m_parent_ident\u001b[0m\u001b[0;34m,\u001b[0m\u001b[0;34m\u001b[0m\u001b[0;34m\u001b[0m\u001b[0m\n\u001b[1;32m    853\u001b[0m             \u001b[0mself\u001b[0m\u001b[0;34m.\u001b[0m\u001b[0m_parent_header\u001b[0m\u001b[0;34m,\u001b[0m\u001b[0;34m\u001b[0m\u001b[0;34m\u001b[0m\u001b[0m\n",
            "\u001b[0;32m/usr/local/lib/python3.10/dist-packages/ipykernel/kernelbase.py\u001b[0m in \u001b[0;36m_input_request\u001b[0;34m(self, prompt, ident, parent, password)\u001b[0m\n\u001b[1;32m    893\u001b[0m             \u001b[0;32mexcept\u001b[0m \u001b[0mKeyboardInterrupt\u001b[0m\u001b[0;34m:\u001b[0m\u001b[0;34m\u001b[0m\u001b[0;34m\u001b[0m\u001b[0m\n\u001b[1;32m    894\u001b[0m                 \u001b[0;31m# re-raise KeyboardInterrupt, to truncate traceback\u001b[0m\u001b[0;34m\u001b[0m\u001b[0;34m\u001b[0m\u001b[0m\n\u001b[0;32m--> 895\u001b[0;31m                 \u001b[0;32mraise\u001b[0m \u001b[0mKeyboardInterrupt\u001b[0m\u001b[0;34m(\u001b[0m\u001b[0;34m\"Interrupted by user\"\u001b[0m\u001b[0;34m)\u001b[0m \u001b[0;32mfrom\u001b[0m \u001b[0;32mNone\u001b[0m\u001b[0;34m\u001b[0m\u001b[0;34m\u001b[0m\u001b[0m\n\u001b[0m\u001b[1;32m    896\u001b[0m             \u001b[0;32mexcept\u001b[0m \u001b[0mException\u001b[0m \u001b[0;32mas\u001b[0m \u001b[0me\u001b[0m\u001b[0;34m:\u001b[0m\u001b[0;34m\u001b[0m\u001b[0;34m\u001b[0m\u001b[0m\n\u001b[1;32m    897\u001b[0m                 \u001b[0mself\u001b[0m\u001b[0;34m.\u001b[0m\u001b[0mlog\u001b[0m\u001b[0;34m.\u001b[0m\u001b[0mwarning\u001b[0m\u001b[0;34m(\u001b[0m\u001b[0;34m\"Invalid Message:\"\u001b[0m\u001b[0;34m,\u001b[0m \u001b[0mexc_info\u001b[0m\u001b[0;34m=\u001b[0m\u001b[0;32mTrue\u001b[0m\u001b[0;34m)\u001b[0m\u001b[0;34m\u001b[0m\u001b[0;34m\u001b[0m\u001b[0m\n",
            "\u001b[0;31mKeyboardInterrupt\u001b[0m: Interrupted by user"
          ]
        }
      ]
    },
    {
      "cell_type": "markdown",
      "source": [
        "# Descargar modelo"
      ],
      "metadata": {
        "id": "9HhGMhJ-dYmv"
      }
    },
    {
      "cell_type": "code",
      "source": [
        "# Exportar los datos importants (vocabulario, clases, el bot y el dataset utilizado)\n",
        "import pickle\n",
        "import json\n",
        "\n",
        "pickle.dump(vocab, open('vocab.pkl','wb'))\n",
        "pickle.dump(responses, open('responses.pkl','wb'))\n",
        "model.save('frozenbot.h5')"
      ],
      "metadata": {
        "id": "X20KUfjLdZ6M",
        "colab": {
          "base_uri": "https://localhost:8080/"
        },
        "outputId": "eac412bf-706d-4b74-e677-d52d389d61b5"
      },
      "execution_count": 46,
      "outputs": [
        {
          "output_type": "stream",
          "name": "stderr",
          "text": [
            "/usr/local/lib/python3.10/dist-packages/keras/src/engine/training.py:3103: UserWarning: You are saving your model as an HDF5 file via `model.save()`. This file format is considered legacy. We recommend using instead the native Keras format, e.g. `model.save('my_model.keras')`.\n",
            "  saving_api.save_model(\n"
          ]
        }
      ]
    },
    {
      "cell_type": "code",
      "source": [
        "# Comprimir todos los datos necesarios\n",
        "!zip -r frozenbot_data.zip frozenbot.h5 vocab.pkl responses.pkl lematizacion-es.pickle"
      ],
      "metadata": {
        "id": "Th1m6WK4dsuf",
        "colab": {
          "base_uri": "https://localhost:8080/"
        },
        "outputId": "cfab814d-bdbc-4633-c907-211a8746bf6e"
      },
      "execution_count": 47,
      "outputs": [
        {
          "output_type": "stream",
          "name": "stdout",
          "text": [
            "updating: frozenbot.h5 (deflated 25%)\n",
            "updating: vocab.pkl (deflated 45%)\n",
            "updating: responses.pkl (deflated 55%)\n",
            "updating: lematizacion-es.pickle (deflated 77%)\n"
          ]
        }
      ]
    },
    {
      "cell_type": "code",
      "source": [
        "from google.colab import files\n",
        "files.download('frozenbot_data.zip')"
      ],
      "metadata": {
        "id": "XWM98vsRd3s5",
        "colab": {
          "base_uri": "https://localhost:8080/",
          "height": 17
        },
        "outputId": "60fdd33e-eac1-4dc5-ce1e-73d1e3b34166"
      },
      "execution_count": 48,
      "outputs": [
        {
          "output_type": "display_data",
          "data": {
            "text/plain": [
              "<IPython.core.display.Javascript object>"
            ],
            "application/javascript": [
              "\n",
              "    async function download(id, filename, size) {\n",
              "      if (!google.colab.kernel.accessAllowed) {\n",
              "        return;\n",
              "      }\n",
              "      const div = document.createElement('div');\n",
              "      const label = document.createElement('label');\n",
              "      label.textContent = `Downloading \"${filename}\": `;\n",
              "      div.appendChild(label);\n",
              "      const progress = document.createElement('progress');\n",
              "      progress.max = size;\n",
              "      div.appendChild(progress);\n",
              "      document.body.appendChild(div);\n",
              "\n",
              "      const buffers = [];\n",
              "      let downloaded = 0;\n",
              "\n",
              "      const channel = await google.colab.kernel.comms.open(id);\n",
              "      // Send a message to notify the kernel that we're ready.\n",
              "      channel.send({})\n",
              "\n",
              "      for await (const message of channel.messages) {\n",
              "        // Send a message to notify the kernel that we're ready.\n",
              "        channel.send({})\n",
              "        if (message.buffers) {\n",
              "          for (const buffer of message.buffers) {\n",
              "            buffers.push(buffer);\n",
              "            downloaded += buffer.byteLength;\n",
              "            progress.value = downloaded;\n",
              "          }\n",
              "        }\n",
              "      }\n",
              "      const blob = new Blob(buffers, {type: 'application/binary'});\n",
              "      const a = document.createElement('a');\n",
              "      a.href = window.URL.createObjectURL(blob);\n",
              "      a.download = filename;\n",
              "      div.appendChild(a);\n",
              "      a.click();\n",
              "      div.remove();\n",
              "    }\n",
              "  "
            ]
          },
          "metadata": {}
        },
        {
          "output_type": "display_data",
          "data": {
            "text/plain": [
              "<IPython.core.display.Javascript object>"
            ],
            "application/javascript": [
              "download(\"download_47b596d2-7f10-4d35-a828-b11e6b36a829\", \"frozenbot_data.zip\", 5635655)"
            ]
          },
          "metadata": {}
        }
      ]
    }
  ]
}